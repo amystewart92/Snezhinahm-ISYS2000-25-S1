{
  "cells": [
    {
      "cell_type": "markdown",
      "metadata": {
        "id": "view-in-github",
        "colab_type": "text"
      },
      "source": [
        "<a href=\"https://colab.research.google.com/github/amystewart92/Snezhinahm-ISYS2000-25-S1/blob/main/Week%204%20Notebooks/Activity_2_Enhancing_Your_Calculator_with_pyinputplus.ipynb\" target=\"_parent\"><img src=\"https://colab.research.google.com/assets/colab-badge.svg\" alt=\"Open In Colab\"/></a>"
      ]
    },
    {
      "cell_type": "markdown",
      "metadata": {
        "id": "8nBJt4fnFY-h"
      },
      "source": [
        "# Introduction\n",
        "\n",
        "In this worksheet, you will recreate the simplified calculator from Activity 1:\n",
        "- Break a problem into smaller, manageable functions.\n",
        "- Reinforce the concept of returning values from functions.\n",
        "- Apply modular design principles, which will be useful when we later build a full weather dashboard.\n",
        "\n",
        "We'll also learn how to use an external library called **pyinputplus** to improve input validation in our Python programmes. In our Python notebooks, you can run shell commands by prefixing them with an exclamation mark (`!`).\n",
        "\n",
        "\n",
        "# Discovering pyinputplus\n",
        "\n",
        "Beginners often discover pyinputplus by exploring online tutorials, coding forums, or by browsing the Python Package Index (PyPI) when they search for ways to improve input validation. A quick search for \"Python input validation library\" might lead you to pyinputplus as a popular and simple solution.\n",
        "\n",
        "Furthermore, engaging with the wider Python community—through blogs, tutorials, or course materials—can provide insights into how and why to use external libraries like pyinputplus. Reading the official documentation and experimenting with example code will help you understand its benefits and prepare you to explore other tools that extend Python's capabilities.\n",
        "\n",
        "\n",
        "# Installing pyinputplus\n",
        "\n",
        "To use pyinputplus, you need to install it. In a code cell in your notebook, run the following command:\n",
        "\n",
        "```python\n",
        "!pip install pyinputplus\n",
        "```\n",
        "\n",
        "> *Tip:*  If you run into issues, try searching for \"how to install python packages in Jupyter Notebook\" or ask an AI tool, e.g., \"How do I install the pyinputplus package in a Python notebook?\"\n",
        "\n",
        "# pyinputplus Basics\n",
        "\n",
        "The **pyinputplus** library provides functions like `inputInt()`, `inputFloat()`, and `inputChoice()` for getting input with built-in validation. Here are some simple examples:\n",
        "\n",
        "```python\n",
        "import pyinputplus as pyip\n",
        "\n",
        "# Ensures the user enters a float\n",
        "number = pyip.inputFloat(\"Enter a number: \")\n",
        "\n",
        "# Ensures the user enters one of the provided choices\n",
        "choice = pyip.inputChoice(['1', '2', '3', '4'], prompt=\"Enter your choice (1-4): \")\n",
        "```\n",
        "\n",
        "> *Note:* pyinputplus will repeatedly prompt the user until valid input is entered, which reduces the risk of errors from invalid data.\n",
        "\n",
        "# Reimplementing the Calculator\n",
        "\n",
        "Your task is to rewrite your simple calculator code from a previous worksheet, but now use pyinputplus to handle user input. Specifically, you should:\n",
        "\n",
        "- Replace built-in `input()` calls with `pyip.inputChoice()` for getting the operation choice.\n",
        "- Replace the `input()` calls for numbers with `pyip.inputFloat()` (or `pyip.inputNum()` to allow both integers and floats).\n",
        "\n",
        "> *Hint:*  Reuse the modular design from your previous worksheet. Your functions for performing calculations can remain largely unchanged, but the way you gather user input will now use pyinputplus.\n",
        "\n",
        "# Bonus Challenges (Optional)\n",
        "\n",
        "- **Division by Zero:**  \n",
        "  Enhance your divide function by checking for division by zero. You might use an if-statement after obtaining the input, or explore pyinputplus's `applyFunc()` for additional validation.\n",
        "\n",
        "- **Using Additional pyinputplus Options:**  \n",
        "  Experiment with `pyip.inputNum()` to accept both integers and floats.  \n",
        "  Try using the timeout or retry options in pyinputplus to further improve input handling.\n",
        "\n",
        "# Key Teaching Points\n",
        "\n",
        "- **Modularity:**  \n",
        "  External libraries, such as pyinputplus, extend Python's built-in functionality and help make your code more robust and maintainable.\n",
        "\n",
        "- **Input Validation:**  \n",
        "  Robust input validation is crucial for preventing errors and ensuring that your programme behaves as expected.\n",
        "\n",
        "- **Error Prevention:**  \n",
        "  Using pyinputplus minimizes runtime errors by continuously prompting until valid input is provided.\n",
        "\n",
        "- **Community Resources:**  \n",
        "  PyPI is a valuable resource where you can find many community-developed Python packages that can save you time and effort.\n",
        "\n",
        "\n",
        "# Discovering Modules and Packages\n",
        "\n",
        "While today's worksheet focuses on using pyinputplus, it's important to realise that it's just one example of the many powerful modules available to Python developers. When you need to extend Python's functionality, you can explore the Python Package Index (PyPI) to find community-developed libraries that meet your needs.\n",
        "\n",
        "**How to Discover Useful Modules:**\n",
        "- **Online Tutorials and Blogs:**  \n",
        "  Many tutorials and blog posts introduce popular packages. For example, if you're interested in input validation, you might search for \"Python input validation library\" and find recommendations like pyinputplus.\n",
        "- **PyPI:**  \n",
        "  Visit [pypi.org](https://pypi.org) to search for packages by keywords or browse trending projects.\n",
        "- **Community Forums:**  \n",
        "  Forums such as Stack Overflow and Reddit’s r/learnpython are great places to ask for recommendations.\n",
        "- **Course Materials:**  \n",
        "  Your course might introduce certain packages as you progress, giving you a curated list of tools to try.\n",
        "\n",
        "By learning how to find and integrate external modules, you will be better equipped to tackle more complex projects. The skills you develop here—searching for packages, reading documentation, and testing new libraries—will be invaluable in your future projects, including your final assignment where you'll build a comprehensive weather dashboard.\n",
        "\n",
        "> *AI Tip:*   If you ever need help, ask an AI tool questions like:\n",
        "- \"What are some useful Python packages for [task]?\"\n",
        "- \"How do I install and use a package from PyPI?\"\n",
        "- \"Can you suggest some packages for input validation in Python?\"\n",
        "\n",
        "\n",
        "# Version Control Reminder\n",
        "\n",
        "As you work on this project, remember the importance of regularly saving your work to GitHub. Here are some tips:\n",
        "- **Save Often:**  \n",
        "  Commit your changes frequently to avoid losing your progress.\n",
        "- **Meaningful Commit Messages:**  \n",
        "  Write clear and descriptive commit messages. For example:\n",
        "  - \"Installed pyinputplus and updated input functions\"\n",
        "  - \"Reimplemented calculator menu using pyinputplus.inputChoice()\"\n",
        "  - \"Added error handling for division by zero\"\n",
        "\n",
        "# Final Tip\n",
        "\n",
        "The functions and techniques you learn in this mini-project may be useful in your final assignment when you build a comprehensive weather dashboard. Modular design and robust input validation are essential skills in professional software development.\n",
        "\n",
        "> *AI Hint:* If you need help at any point, try asking an AI tool questions like:  \n",
        "- \"How do I convert my input() calls to pyinputplus functions in a Python notebook?\"  \n",
        "- \"Can you explain how pyinputplus.inputChoice() works?\"  \n",
        "- \"Help me write pseudo-code for reimplementing my calculator using pyinputplus.\"  \n",
        "- \"What are some best practices for writing commit messages for GitHub?\"\n",
        "\n",
        "Happy coding!"
      ]
    },
    {
      "cell_type": "code",
      "source": [
        "!pip install pyinputplus\n"
      ],
      "metadata": {
        "id": "_5hni_PwDT-_",
        "outputId": "b0e8910d-5ec7-4a0e-d1ea-7aee68765849",
        "colab": {
          "base_uri": "https://localhost:8080/"
        }
      },
      "execution_count": 10,
      "outputs": [
        {
          "output_type": "stream",
          "name": "stdout",
          "text": [
            "Requirement already satisfied: pyinputplus in /usr/local/lib/python3.11/dist-packages (0.2.12)\n",
            "Requirement already satisfied: pysimplevalidate>=0.2.7 in /usr/local/lib/python3.11/dist-packages (from pyinputplus) (0.2.12)\n",
            "Requirement already satisfied: stdiomask>=0.0.3 in /usr/local/lib/python3.11/dist-packages (from pyinputplus) (0.0.6)\n"
          ]
        }
      ]
    },
    {
      "cell_type": "code",
      "source": [
        "import pyinputplus as pyip\n",
        "\n",
        "# Ensures the user enters a float\n",
        "number = pyip.inputFloat(\"Enter a number: \")\n",
        "\n",
        "# Ensures the user enters one of the provided choices\n",
        "choice = pyip.inputChoice(['1', '2', '3', '4'], prompt=\"Enter your choice (1-4): \")\n"
      ],
      "metadata": {
        "id": "edIGBsBUGsSA",
        "outputId": "539de8f9-14e1-408d-c950-86388453711d",
        "colab": {
          "base_uri": "https://localhost:8080/"
        }
      },
      "execution_count": 11,
      "outputs": [
        {
          "name": "stdout",
          "output_type": "stream",
          "text": [
            "Enter a number: 6\n",
            "Enter your choice (1-4): 1\n"
          ]
        }
      ]
    },
    {
      "cell_type": "code",
      "source": [
        "# Define the calculator functions\n",
        "def add(a, b):\n",
        "    return a + b\n",
        "\n",
        "def subtract(a, b):\n",
        "    return a - b\n",
        "\n",
        "def multiply(a, b):\n",
        "    return a * b\n",
        "\n",
        "def divide(a, b):\n",
        "    if b == 0:\n",
        "        return \"Error: Cannot divide by zero.\"\n",
        "    else:\n",
        "        return a / b\n",
        "\n",
        "# Function to display the menu and get the user's choice\n",
        "def get_operation():\n",
        "    print(\"Simple Calculator Menu\")\n",
        "    print(\"1. Add\")\n",
        "    print(\"2. Subtract\")\n",
        "    print(\"3. Multiply\")\n",
        "    print(\"4. Divide\")\n",
        "    choice = pyip.inputChoices()\n",
        "    return choice\n",
        "\n",
        "# Function to get a floating-point number from the user\n",
        "def get_number(prompt):\n",
        "    return float(pyip.inputChoices(prompt))\n",
        "\n",
        "# Function to perform the calculation based on the operation\n",
        "def perform_calculation(operation, num1, num2):\n",
        "    if operation == \"1\":\n",
        "        return add(num1, num2)\n",
        "    elif operation == \"2\":\n",
        "        return subtract(num1, num2)\n",
        "    elif operation == \"3\":\n",
        "        return multiply(num1, num2)\n",
        "    elif operation == \"4\":\n",
        "        return divide(num1, num2)\n",
        "    else:\n",
        "        return \"Invalid choice.\"\n",
        "\n",
        "# Main script\n",
        "operation = pyip.input(['1','2'])\n",
        "num1 = get_number(\"Enter the first number: \")\n",
        "num2 = get_number(\"Enter the second number: \")\n",
        "result = perform_calculation(operation, num1, num2)\n",
        "print(\"Result:\", result)"
      ],
      "metadata": {
        "id": "zhvu79whHVKT",
        "outputId": "c2ae92a7-057a-49f2-bf70-05b29bfdc9ef",
        "colab": {
          "base_uri": "https://localhost:8080/",
          "height": 356
        }
      },
      "execution_count": 20,
      "outputs": [
        {
          "output_type": "error",
          "ename": "PyInputPlusException",
          "evalue": "prompt argument must be a str",
          "traceback": [
            "\u001b[0;31m---------------------------------------------------------------------------\u001b[0m",
            "\u001b[0;31mPyInputPlusException\u001b[0m                      Traceback (most recent call last)",
            "\u001b[0;32m<ipython-input-20-282d17fddc14>\u001b[0m in \u001b[0;36m<cell line: 0>\u001b[0;34m()\u001b[0m\n\u001b[1;32m     43\u001b[0m \u001b[0;34m\u001b[0m\u001b[0m\n\u001b[1;32m     44\u001b[0m \u001b[0;31m# Main script\u001b[0m\u001b[0;34m\u001b[0m\u001b[0;34m\u001b[0m\u001b[0m\n\u001b[0;32m---> 45\u001b[0;31m \u001b[0moperation\u001b[0m \u001b[0;34m=\u001b[0m \u001b[0mpyip\u001b[0m\u001b[0;34m.\u001b[0m\u001b[0minputFloat\u001b[0m\u001b[0;34m(\u001b[0m\u001b[0;34m[\u001b[0m\u001b[0;34m'1'\u001b[0m\u001b[0;34m,\u001b[0m\u001b[0;34m'2'\u001b[0m\u001b[0;34m]\u001b[0m\u001b[0;34m)\u001b[0m\u001b[0;34m\u001b[0m\u001b[0;34m\u001b[0m\u001b[0m\n\u001b[0m\u001b[1;32m     46\u001b[0m \u001b[0mnum1\u001b[0m \u001b[0;34m=\u001b[0m \u001b[0mget_number\u001b[0m\u001b[0;34m(\u001b[0m\u001b[0;34m\"Enter the first number: \"\u001b[0m\u001b[0;34m)\u001b[0m\u001b[0;34m\u001b[0m\u001b[0;34m\u001b[0m\u001b[0m\n\u001b[1;32m     47\u001b[0m \u001b[0mnum2\u001b[0m \u001b[0;34m=\u001b[0m \u001b[0mget_number\u001b[0m\u001b[0;34m(\u001b[0m\u001b[0;34m\"Enter the second number: \"\u001b[0m\u001b[0;34m)\u001b[0m\u001b[0;34m\u001b[0m\u001b[0;34m\u001b[0m\u001b[0m\n",
            "\u001b[0;32m/usr/local/lib/python3.11/dist-packages/pyinputplus/__init__.py\u001b[0m in \u001b[0;36minputFloat\u001b[0;34m(prompt, default, blank, timeout, limit, strip, allowRegexes, blockRegexes, applyFunc, postValidateApplyFunc, min, max, lessThan, greaterThan)\u001b[0m\n\u001b[1;32m    556\u001b[0m     )\n\u001b[1;32m    557\u001b[0m \u001b[0;34m\u001b[0m\u001b[0m\n\u001b[0;32m--> 558\u001b[0;31m     result = _genericInput(\n\u001b[0m\u001b[1;32m    559\u001b[0m         \u001b[0mprompt\u001b[0m\u001b[0;34m=\u001b[0m\u001b[0mprompt\u001b[0m\u001b[0;34m,\u001b[0m\u001b[0;34m\u001b[0m\u001b[0;34m\u001b[0m\u001b[0m\n\u001b[1;32m    560\u001b[0m         \u001b[0mdefault\u001b[0m\u001b[0;34m=\u001b[0m\u001b[0mdefault\u001b[0m\u001b[0;34m,\u001b[0m\u001b[0;34m\u001b[0m\u001b[0;34m\u001b[0m\u001b[0m\n",
            "\u001b[0;32m/usr/local/lib/python3.11/dist-packages/pyinputplus/__init__.py\u001b[0m in \u001b[0;36m_genericInput\u001b[0;34m(prompt, default, timeout, limit, applyFunc, validationFunc, postValidateApplyFunc, passwordMask)\u001b[0m\n\u001b[1;32m    133\u001b[0m     \u001b[0;31m# Validate the parameters.\u001b[0m\u001b[0;34m\u001b[0m\u001b[0;34m\u001b[0m\u001b[0m\n\u001b[1;32m    134\u001b[0m     \u001b[0;32mif\u001b[0m \u001b[0;32mnot\u001b[0m \u001b[0misinstance\u001b[0m\u001b[0;34m(\u001b[0m\u001b[0mprompt\u001b[0m\u001b[0;34m,\u001b[0m \u001b[0mstr\u001b[0m\u001b[0;34m)\u001b[0m\u001b[0;34m:\u001b[0m\u001b[0;34m\u001b[0m\u001b[0;34m\u001b[0m\u001b[0m\n\u001b[0;32m--> 135\u001b[0;31m         \u001b[0;32mraise\u001b[0m \u001b[0mPyInputPlusException\u001b[0m\u001b[0;34m(\u001b[0m\u001b[0;34m\"prompt argument must be a str\"\u001b[0m\u001b[0;34m)\u001b[0m\u001b[0;34m\u001b[0m\u001b[0;34m\u001b[0m\u001b[0m\n\u001b[0m\u001b[1;32m    136\u001b[0m     \u001b[0;32mif\u001b[0m \u001b[0;32mnot\u001b[0m \u001b[0misinstance\u001b[0m\u001b[0;34m(\u001b[0m\u001b[0mtimeout\u001b[0m\u001b[0;34m,\u001b[0m \u001b[0;34m(\u001b[0m\u001b[0mint\u001b[0m\u001b[0;34m,\u001b[0m \u001b[0mfloat\u001b[0m\u001b[0;34m,\u001b[0m \u001b[0mtype\u001b[0m\u001b[0;34m(\u001b[0m\u001b[0;32mNone\u001b[0m\u001b[0;34m)\u001b[0m\u001b[0;34m)\u001b[0m\u001b[0;34m)\u001b[0m\u001b[0;34m:\u001b[0m\u001b[0;34m\u001b[0m\u001b[0;34m\u001b[0m\u001b[0m\n\u001b[1;32m    137\u001b[0m         \u001b[0;32mraise\u001b[0m \u001b[0mPyInputPlusException\u001b[0m\u001b[0;34m(\u001b[0m\u001b[0;34m\"timeout argument must be an int or float\"\u001b[0m\u001b[0;34m)\u001b[0m\u001b[0;34m\u001b[0m\u001b[0;34m\u001b[0m\u001b[0m\n",
            "\u001b[0;31mPyInputPlusException\u001b[0m: prompt argument must be a str"
          ]
        }
      ]
    }
  ],
  "metadata": {
    "kernelspec": {
      "display_name": "Python 3 (ipykernel)",
      "language": "python",
      "name": "python3"
    },
    "colab": {
      "provenance": [],
      "include_colab_link": true
    }
  },
  "nbformat": 4,
  "nbformat_minor": 0
}