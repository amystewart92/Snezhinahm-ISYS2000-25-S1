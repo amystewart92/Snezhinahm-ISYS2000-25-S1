{
  "cells": [
    {
      "cell_type": "markdown",
      "metadata": {
        "id": "view-in-github",
        "colab_type": "text"
      },
      "source": [
        "<a href=\"https://colab.research.google.com/github/amystewart92/Snezhinahm-ISYS2000-25-S1/blob/main/Week%206%20Notebooks/Activity_2_Optimising_Dictionary_Performance_Evaluating_Options_for_Large_Datasets.ipynb\" target=\"_parent\"><img src=\"https://colab.research.google.com/assets/colab-badge.svg\" alt=\"Open In Colab\"/></a>"
      ]
    },
    {
      "cell_type": "markdown",
      "metadata": {
        "id": "iT9PL9GlFZRx"
      },
      "source": [
        "## Learning Objectives\n",
        "\n",
        "By the end of this activity, you will be able to:\n",
        "\n",
        "- **Analyse** the performance characteristics of different dictionary implementations for large datasets.\n",
        "- **Evaluate** the suitability of dictionary-based data structures for specific data storage and retrieval requirements.\n",
        "- **Justify** the choice of dictionary implementation based on factors such as time complexity, space usage, and ease of use.\n",
        "\n",
        "## Introduction\n",
        "\n",
        "Dictionaries are a fundamental data structure in Python, providing efficient key-value storage and retrieval. However, as dataset sizes grow, the performance of standard dictionaries can degrade. In this activity, you will explore various techniques for optimising dictionary performance, evaluating their trade-offs, and applying them to solve real-world problems.\n",
        "\n",
        "## Using AI Tools Ethically & Effectively\n",
        "\n",
        "AI tools can be helpful in exploring and understanding the complexities of dictionary performance optimisation, but they require careful and critical use. When utilising AI assistance in this worksheet:\n",
        "\n",
        "- Be transparent about when and how you are using AI, and explicitly state how you have verified the accuracy and relevance of the AI-generated information.\n",
        "- Critically evaluate the AI's suggestions and recommendations, considering their limitations and applicability to the specific context.\n",
        "- Use AI as a learning partner to deepen your understanding, not just to generate answers. For example, you could ask AI to explain the underlying principles of a concept in a different way to help solidify your comprehension.\n",
        "- 💡 AI Tip: Ask an AI to summarise the key factors to consider when choosing a dictionary implementation for a large dataset. Critically assess whether the AI's response covers the most important points.\n",
        "\n",
        "## Key Concepts\n",
        "\n",
        "- **Dictionary Implementations:** Standard dictionaries, ordered dictionaries, hash tables, tries, and other advanced data structures.\n",
        "- **Time Complexity:** The efficiency of dictionary operations (lookup, insertion, deletion) in terms of Big O notation.\n",
        "- **Space Complexity:** The memory usage of different dictionary implementations.\n",
        "- **Trade-offs:** Balancing factors like speed, memory usage, and ease of use when selecting a dictionary implementation.\n",
        "\n",
        "## Activity 1: Conceptual Application & Analysis\n",
        "\n",
        "You are designing a system to store and quickly retrieve information about millions of products in an e-commerce platform. The data includes the product ID, name, description, price, and other details.\n",
        "\n",
        "**Task:** Explain how you would approach choosing a dictionary-based data structure to efficiently store and retrieve this product information. In your explanation, consider the following:\n",
        "\n",
        "- What are the key factors you would need to evaluate when selecting a dictionary implementation?\n",
        "- How would the size of the dataset (millions of products) influence your choice?\n",
        "- What potential challenges or trade-offs might you need to address?"
      ]
    },
    {
      "cell_type": "markdown",
      "source": [
        "Readability\n",
        "  fast look up and insertion\n",
        "  "
      ],
      "metadata": {
        "id": "4OD4_N8WP2WO"
      }
    },
    {
      "cell_type": "code",
      "metadata": {
        "id": "Fb0zW1bqFZRz"
      },
      "source": [
        "# You can include any relevant code snippets or visualisations to support your explanation."
      ],
      "execution_count": null,
      "outputs": []
    },
    {
      "cell_type": "markdown",
      "metadata": {
        "id": "_o0WPpNLFZRz"
      },
      "source": [
        "💡 AI Tip: Ask an AI to suggest potential performance issues that could arise when using a standard dictionary to store and retrieve millions of product records. Critically evaluate the AI's response and consider how it might inform your choice of data structure.\n",
        "\n",
        "## Activity 2: Evaluation, Comparison, and Justification\n",
        "\n",
        "You have been tasked with implementing a caching system for a web application that serves frequently accessed data. The cache needs to support fast lookups and updates, as the data is accessed and modified by multiple users concurrently.\n",
        "\n",
        "**Task:** Compare and contrast two dictionary-based data structures that could be suitable for this caching system, justifying your choice of the most appropriate implementation.\n",
        "\n",
        "Your comparison should consider the following factors:\n",
        "- Time complexity of key operations (lookup, insertion, deletion)\n",
        "- Space complexity and memory usage\n",
        "- Concurrency handling and thread-safety\n",
        "- Ease of implementation and maintenance"
      ]
    },
    {
      "cell_type": "code",
      "metadata": {
        "id": "JnEjDGEoFZR0"
      },
      "source": [
        "# You can include code examples or performance benchmarks to support your comparison and justification."
      ],
      "execution_count": null,
      "outputs": []
    },
    {
      "cell_type": "markdown",
      "metadata": {
        "id": "FoEf0z_KFZR0"
      },
      "source": [
        "💡 AI Tip: Use an AI to help brainstorm potential issues or edge cases you should consider when evaluating dictionary implementations for a concurrent caching system. Critically assess the AI's suggestions and incorporate the relevant ones into your justification.\n",
        "\n",
        "## Extension: Optimising Dictionary Performance in a Real-World Scenario\n",
        "\n",
        "You are working on a data analysis project that involves processing large log files to extract and summarise relevant information. The log files contain millions of entries, each with a timestamp, user ID, and other metadata.\n",
        "\n",
        "**Task:** Design an efficient data processing pipeline that utilises dictionary-based data structures to store and manipulate the log data. Justify your choices of dictionary implementations and explain how they address the performance requirements of this scenario.\n",
        "\n",
        "Consider factors such as:\n",
        "- Handling large datasets with millions of entries\n",
        "- Efficiently grouping and aggregating data by user, timestamp, or other metadata\n",
        "- Optimising lookup and update operations for the analysis tasks\n",
        "- Trade-offs between time complexity, space usage, and ease of implementation"
      ]
    },
    {
      "cell_type": "code",
      "metadata": {
        "id": "2C0hQm4QFZR0"
      },
      "source": [
        "# Include code examples or pseudocode to demonstrate your proposed solution."
      ],
      "execution_count": null,
      "outputs": []
    },
    {
      "cell_type": "markdown",
      "metadata": {
        "id": "6qc5_68SFZR0"
      },
      "source": [
        "💡 AI Tip: Ask an AI to suggest potential performance bottlenecks in your data processing pipeline and how different dictionary implementations could address them. Critically evaluate the AI's response and incorporate relevant insights into your justification.\n",
        "\n",
        "## Reflection\n",
        "\n",
        "1. How might the analytical and evaluative skills you practiced with dictionary performance optimisation apply elsewhere in your studies or future work?\n",
        "\n",
        "2. Describe how you used (or decided not to use) AI tools for the analysis, evaluation, or justification tasks in this worksheet. How did it influence your process and learning?\n",
        "\n",
        "3. Reflect on the process of critically evaluating information and justifying your choices during this activity. What was challenging or insightful?"
      ]
    }
  ],
  "metadata": {
    "kernelspec": {
      "name": "python3",
      "language": "python",
      "display_name": "Python 3 (ipykernel)"
    },
    "colab": {
      "provenance": [],
      "include_colab_link": true
    }
  },
  "nbformat": 4,
  "nbformat_minor": 0
}