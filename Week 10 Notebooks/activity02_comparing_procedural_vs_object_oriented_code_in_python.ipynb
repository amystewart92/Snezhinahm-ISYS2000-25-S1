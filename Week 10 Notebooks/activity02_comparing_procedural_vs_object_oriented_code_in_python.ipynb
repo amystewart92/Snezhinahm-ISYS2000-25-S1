{
  "cells": [
    {
      "cell_type": "markdown",
      "metadata": {
        "id": "view-in-github",
        "colab_type": "text"
      },
      "source": [
        "<a href=\"https://colab.research.google.com/github/amystewart92/Snezhinahm-ISYS2000-25-S1/blob/main/Week%2010%20Notebooks/activity02_comparing_procedural_vs_object_oriented_code_in_python.ipynb\" target=\"_parent\"><img src=\"https://colab.research.google.com/assets/colab-badge.svg\" alt=\"Open In Colab\"/></a>"
      ]
    },
    {
      "cell_type": "markdown",
      "metadata": {
        "id": "lWMhhuWOclJP"
      },
      "source": [
        "# Exploring Code Paradigms: Procedural vs Object-Oriented in Python\n",
        "*A Hands-On Approach to Understanding Code Structures*\n",
        "\n",
        "\n",
        "## Learning Objectives\n",
        "- By the end of this activity, you will be able to distinguish between procedural and object-oriented programming in Python.\n",
        "- Understand the basic concepts and applications of classes and objects.\n",
        "- Evaluate the appropriateness of using procedural or object-oriented techniques for different programming scenarios.\n",
        "\n",
        "## Introduction\n",
        "Understanding different programming paradigms is crucial not only for developing flexible coding skills but also for appreciating how these paradigms can be applied to solve various problems efficiently. This worksheet will guide you through the foundational concepts of Procedural and Object-Oriented Programming (OOP) in Python, helping you see where each approach might be most effective.\n",
        "\n",
        "## Using AI Tools Ethically & Effectively\n",
        "> **Transparency:** Always disclose your use of AI tools in your work. For instance, note any instances where AI helped you generate ideas or refine your code.\n",
        ">\n",
        "> **Critical Evaluation:** Remember that AI suggestions may not always be accurate. Always verify the information and refine the AI-generated content to ensure quality and relevance.\n",
        ">\n",
        "> **Learning Partner:** Use AI tools to deepen your understanding, asking for explanations or examples. For example, you can start with prompts like \"Explain encapsulation in simple terms\" or \"Provide an example of polymorphism in Python.\"\n",
        "\n",
        "## Key Concepts\n",
        "- **Procedural Programming:** A programming paradigm based on the concept of procedure calls, where statements are structured into procedures (functions).\n",
        "- **Object-Oriented Programming (OOP):** A programming paradigm based on the concept of \"objects\", which can contain data in the form of fields (often known as attributes), and code, in the form of procedures (often known as methods).\n",
        "- **Class:** A blueprint for creating objects (a particular data structure), providing initial values for state (member variables), and implementations of behavior (member functions or methods).\n",
        "- **Object:** An instance of a class.\n",
        "\n",
        "## Application Activities\n",
        "\n",
        "### Activity 1: Identifying Paradigms in Real Code\n",
        "*Scenario:* You are given a snippet of Python code. Determine whether it uses a procedural or object-oriented approach and justify your answer."
      ]
    },
    {
      "cell_type": "code",
      "metadata": {
        "id": "Mf9w4Jb2clJQ",
        "outputId": "1fde971c-6526-48d0-daa1-d0277af504a8",
        "colab": {
          "base_uri": "https://localhost:8080/"
        }
      },
      "source": [
        "def calculate_area(base, height):\n",
        "    return 0.5 * base * height\n",
        "\n",
        "area = calculate_area(5, 10)\n",
        "print(\"Area:\", area)"
      ],
      "execution_count": 1,
      "outputs": [
        {
          "output_type": "stream",
          "name": "stdout",
          "text": [
            "Area: 25.0\n"
          ]
        }
      ]
    },
    {
      "cell_type": "markdown",
      "metadata": {
        "id": "HNuneETyclJR"
      },
      "source": [
        "*Your response:*"
      ]
    },
    {
      "cell_type": "markdown",
      "source": [
        "Procedural approach\n",
        "- focus is on the function to perform the calculation of the area.\n",
        "-"
      ],
      "metadata": {
        "id": "amEgwSDFcLiy"
      }
    },
    {
      "cell_type": "markdown",
      "metadata": {
        "id": "AZZrPwrMclJR"
      },
      "source": [
        "---\n",
        "\n",
        "### Activity 2: Refactoring to OOP\n",
        "*Task:* Refactor the procedural code provided in Activity 1 into an object-oriented format. Define a class `Triangle` with a method to calculate the area."
      ]
    },
    {
      "cell_type": "code",
      "metadata": {
        "id": "3O9rvtRrclJR",
        "outputId": "3710c794-94ec-4585-fac0-3f2d95a91f90",
        "colab": {
          "base_uri": "https://localhost:8080/"
        }
      },
      "source": [
        "# Procedural code\n",
        "class Triangle:\n",
        "  def __init__(self, base, height):\n",
        "    self.base = base\n",
        "    self.height = height\n",
        "  def calculate_area(self):\n",
        "    return 0.5 * self.base * self.height\n",
        "area = calculate_area(5, 10)\n",
        "print(\"Area:\", area)\n",
        "\n",
        "# Refactor to OOP below\n"
      ],
      "execution_count": 4,
      "outputs": [
        {
          "output_type": "stream",
          "name": "stdout",
          "text": [
            "Area: 25.0\n"
          ]
        }
      ]
    },
    {
      "cell_type": "raw",
      "metadata": {
        "id": "vBq7HdVzclJR"
      },
      "source": [
        "---"
      ]
    },
    {
      "cell_type": "markdown",
      "metadata": {
        "id": "qmyrLNpMclJR"
      },
      "source": [
        "💡 **AI Tip:** Stuck on how to start refactoring? Ask an AI: \"How can I convert procedural code into an object-oriented class in Python?\" Use its suggestions to guide your initial design, but ensure you understand and can justify each part of the transformed code.\n",
        "\n",
        "### Extension Task: Enhance the Triangle Class\n",
        "Enhance your `Triangle` class by adding more functionalities such as calculating the perimeter, and include input validation.\n",
        "\n",
        "*Your response:*"
      ]
    },
    {
      "cell_type": "code",
      "metadata": {
        "id": "RRgGORExclJS",
        "outputId": "710596a2-6f4a-4602-8bc3-32f3078af03c",
        "colab": {
          "base_uri": "https://localhost:8080/"
        }
      },
      "source": [
        "# Enhance\n",
        "class Triangle:\n",
        "    def __init__(self, base, height, side1, side2, side3):\n",
        "        if base <= 0 or height <= 0 or side1 <= 0 or side2 <= 0 or side3 <= 0:\n",
        "            raise ValueError(\"All sides and height must be positive values.\")\n",
        "        self.base = base\n",
        "        self.height = height\n",
        "        self.side1 = side1\n",
        "        self.side2 = side2\n",
        "        self.side3 = side3\n",
        "\n",
        "    def calculate_area(self):\n",
        "        return 0.5 * self.base * self.height\n",
        "\n",
        "    def calculate_perimeter(self):\n",
        "        return self.side1 + self.side2 + self.side3\n",
        "\n",
        " # Create a Triangle object\n",
        "my_triangle = Triangle(base=5, height=10, side1=5, side2=6, side3=7)\n",
        "\n",
        "# Calculate and print the area\n",
        "area = my_triangle.calculate_area()\n",
        "print(\"Area:\", area)\n",
        "\n",
        "# Calculate and print the perimeter\n",
        "perimeter = my_triangle.calculate_perimeter()\n",
        "print(\"Perimeter:\", perimeter)"
      ],
      "execution_count": 13,
      "outputs": [
        {
          "output_type": "stream",
          "name": "stdout",
          "text": [
            "Area: 25.0\n",
            "Perimeter: 18\n"
          ]
        }
      ]
    },
    {
      "cell_type": "raw",
      "metadata": {
        "id": "pxRxCiRqclJS"
      },
      "source": [
        "---\n",
        "\n",
        "## Reflection\n",
        "- Reflect on how you might use the knowledge of different programming paradigms in your future projects.\n",
        "- Discuss how you used AI tools during this activity and evaluate their effectiveness.\n",
        "- Describe how you ensured the integrity of your work when using AI suggestions.\n",
        "\n",
        "*Your response:*\n",
        "\n",
        "---"
      ]
    },
    {
      "cell_type": "markdown",
      "metadata": {
        "id": "BK8adalmclJS"
      },
      "source": [
        "This worksheet has introduced you to the fundamental differences and applications of procedural and object-oriented programming in Python. By engaging with the code and refactoring tasks, you gain hands-on experience that helps solidify your understanding of these concepts. Remember, the choice of programming paradigm can significantly influence the design, maintenance, and scalability of software projects."
      ]
    }
  ],
  "metadata": {
    "kernelspec": {
      "display_name": "Python 3",
      "language": "python",
      "name": "python3"
    },
    "colab": {
      "provenance": [],
      "include_colab_link": true
    }
  },
  "nbformat": 4,
  "nbformat_minor": 0
}