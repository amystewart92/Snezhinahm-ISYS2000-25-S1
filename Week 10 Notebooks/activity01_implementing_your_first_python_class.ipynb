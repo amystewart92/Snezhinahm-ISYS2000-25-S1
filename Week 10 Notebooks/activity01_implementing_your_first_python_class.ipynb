{
  "cells": [
    {
      "cell_type": "markdown",
      "metadata": {
        "id": "view-in-github",
        "colab_type": "text"
      },
      "source": [
        "<a href=\"https://colab.research.google.com/github/amystewart92/Snezhinahm-ISYS2000-25-S1/blob/main/Week%2010%20Notebooks/activity01_implementing_your_first_python_class.ipynb\" target=\"_parent\"><img src=\"https://colab.research.google.com/assets/colab-badge.svg\" alt=\"Open In Colab\"/></a>"
      ]
    },
    {
      "cell_type": "markdown",
      "metadata": {
        "id": "LVdeH5rYcM60"
      },
      "source": [
        "# First Steps in Python: Crafting Your First Class\n",
        "*Jump into Object-Oriented Programming with Python*\n",
        "\n",
        "## Learning Objectives\n",
        "- By the end of this activity, you will be able to design and implement a basic class in Python.\n",
        "- Understand the fundamental principles of object-oriented programming and how they can be applied to solve real-world problems.\n",
        "- Recognise how to use AI tools ethically and effectively to enhance your learning experience in programming.\n",
        "\n",
        "## Introduction\n",
        "Object-oriented programming (OOP) is a fundamental programming paradigm used across many programming languages, including Python. It allows developers to organise software design around data, or objects, rather than functions and logic. Understanding how to implement your first Python class will not only help in structuring code more efficiently but also in real-world applications like software development and data management.\n",
        "\n",
        "### Using AI Tools Ethically & Effectively\n",
        "> **Transparency:** Always acknowledge when and how you've used AI in your work. If AI helps you to brainstorm or refine ideas, add a note explaining this use.\n",
        ">\n",
        "> **Critical Evaluation:** Remember that AI-generated suggestions might not always be correct. Always verify facts and logic and refine the AI's suggestions.\n",
        ">\n",
        "> **Learning Partner:** Utilise AI as a learning tool. Ask for explanations or examples to better understand concepts, e.g., \"Explain encapsulation in simple terms\" or \"Give me an example of a class in Python.\"\n",
        "\n",
        "## Key Concepts\n",
        "- **Class:** A blueprint for creating objects (a particular data structure), providing initial values for state (member variables) and implementations of behavior (member functions or methods).\n",
        "- **Object:** An instance of a class.\n",
        "- **Attribute:** A characteristic of an object (usually variables).\n",
        "- **Method:** A function that is associated with an object.\n",
        "\n",
        "## Application Activities\n",
        "\n",
        "### Activity 1: Design a Simple Class\n",
        "Imagine you are tasked to create a software for a library to manage books. Design a Python class named `Book` that has two attributes: `title` and `author`, and a method to display book information.\n",
        "\n",
        "**💡 AI Tip:** Stuck on how to start? Ask an AI: 'Give me a basic structure for a class named Book in Python.' Remember to adapt the provided structure to suit this specific task.\n",
        "\n",
        "*Your response:*"
      ]
    },
    {
      "cell_type": "code",
      "metadata": {
        "id": "WzW1FPrCcM62"
      },
      "source": [
        "# Define the Book class here\n",
        "class Book:\n",
        "    def __init__(self, title, author, genre, page_count, availability):\n",
        "        self.title = title\n",
        "        self.author = author\n",
        "        self.genre = genre\n",
        "        self.page_count = page_count\n",
        "        self.availability = availability\n",
        "\n",
        "    def display_info(self):\n",
        "        print(f\"Title: {self.title}\")\n",
        "        print(f\"Author: {self.author}\")\n",
        "        print(f\"Genre: {self.genre}\")\n",
        "        print(f\"Page Count: {self.page_count}\")\n",
        "        print(f\"Availability: {self.availability}\")"
      ],
      "execution_count": 7,
      "outputs": []
    },
    {
      "cell_type": "markdown",
      "metadata": {
        "id": "2UsEszEvcM62"
      },
      "source": [
        "### Activity 2: Implement and Test Your Class\n",
        "Now, implement the `Book` class you designed. Create two instances of `Book`, each representing a different book. Display the information of both books using the method you defined.\n",
        "\n",
        "**💡 AI Tip:** Drafted your class? Paste it and ask an AI: 'Review this class definition for clarity and suggest improvements.' Use its feedback to refine your work.\n",
        "\n",
        "*Your response:*"
      ]
    },
    {
      "cell_type": "code",
      "metadata": {
        "id": "nslYY1jIcM63",
        "outputId": "de0d2edc-274c-4a66-bc1e-0093728792c7",
        "colab": {
          "base_uri": "https://localhost:8080/"
        }
      },
      "source": [
        "# Implement the Book class and create instances here\n",
        "book1 = Book(title=\"Verity\", author=\"Colleen Hoover\", genre=\"Thriller\", page_count=335, availability=True)\n",
        "book1.display_info()"
      ],
      "execution_count": 12,
      "outputs": [
        {
          "output_type": "stream",
          "name": "stdout",
          "text": [
            "Title: Verity\n",
            "Author: Colleen Hoover\n",
            "Genre: Thriller\n",
            "Page Count: 335\n",
            "Availability: True\n"
          ]
        }
      ]
    },
    {
      "cell_type": "markdown",
      "metadata": {
        "id": "Uqaj44z_cM63"
      },
      "source": [
        "### Extension Challenge: Enhance Your Class\n",
        "Enhance your `Book` class by adding a new attribute, `year_published`, and a method to update the author. Test your updated class by changing the author of one of your book instances.\n",
        "\n",
        "*Your response:*"
      ]
    },
    {
      "cell_type": "code",
      "metadata": {
        "id": "7HvIdHAFcM63"
      },
      "source": [
        "# Enhance and test the Book class here\n",
        "class Book:\n",
        "    def __init__(self, title, author, genre, page_count, availability, year_published):\n",
        "        self.title = title\n",
        "        self.author = author\n",
        "        self.genre = genre\n",
        "        self.page_count = page_count\n",
        "        self.availability = availability\n",
        "        self.year_published = year_published\n",
        "\n",
        "    def display_info(self):\n",
        "        print(f\"Title: {self.title}\")\n",
        "        print(f\"Author: {self.author}\")\n",
        "        print(f\"Genre: {self.genre}\")\n",
        "        print(f\"Page Count: {self.page_count}\")\n",
        "        print(f\"Availability: {self.availability}\")\n",
        "        print(f\"Year Published: {self.year_published}\")"
      ],
      "execution_count": 13,
      "outputs": []
    },
    {
      "cell_type": "code",
      "source": [
        "book1 = Book(title=\"Verity\", author=\"Colleen Hoover\", genre=\"Thriller\", page_count=335, availability=True, year_published= 2018)\n",
        "book1.display_info()"
      ],
      "metadata": {
        "id": "1yFS0TZsZml2",
        "outputId": "8832899d-0de9-4072-8cd6-b193681c88f6",
        "colab": {
          "base_uri": "https://localhost:8080/"
        }
      },
      "execution_count": 14,
      "outputs": [
        {
          "output_type": "stream",
          "name": "stdout",
          "text": [
            "Title: Verity\n",
            "Author: Colleen Hoover\n",
            "Genre: Thriller\n",
            "Page Count: 335\n",
            "Availability: True\n",
            "Year Published: 2018\n"
          ]
        }
      ]
    },
    {
      "cell_type": "markdown",
      "metadata": {
        "id": "AeRBU07wcM64"
      },
      "source": [
        "## Reflection\n",
        "Reflect on how you used this worksheet and AI tools to understand Python classes better.\n",
        "- How might you use this new knowledge in future projects?\n",
        "- Reflect on how you used AI tools during this activity.\n",
        "- Describe how you ensured the integrity of your work when using AI assistance.\n",
        "\n",
        "**Your response:**"
      ]
    }
  ],
  "metadata": {
    "kernelspec": {
      "display_name": "Python 3",
      "language": "python",
      "name": "python3"
    },
    "colab": {
      "provenance": [],
      "include_colab_link": true
    }
  },
  "nbformat": 4,
  "nbformat_minor": 0
}