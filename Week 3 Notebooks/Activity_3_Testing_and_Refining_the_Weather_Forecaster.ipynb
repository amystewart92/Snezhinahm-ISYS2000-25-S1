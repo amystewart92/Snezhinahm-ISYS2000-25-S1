{
  "cells": [
    {
      "cell_type": "markdown",
      "metadata": {
        "id": "view-in-github",
        "colab_type": "text"
      },
      "source": [
        "<a href=\"https://colab.research.google.com/github/amystewart92/Snezhinahm-ISYS2000-25-S1/blob/main/Week%203%20Notebooks/Activity_3_Testing_and_Refining_the_Weather_Forecaster.ipynb\" target=\"_parent\"><img src=\"https://colab.research.google.com/assets/colab-badge.svg\" alt=\"Open In Colab\"/></a>"
      ]
    },
    {
      "cell_type": "code",
      "source": [
        "number = 3"
      ],
      "metadata": {
        "id": "vKjuS1iXFhic"
      },
      "execution_count": 3,
      "outputs": []
    },
    {
      "cell_type": "markdown",
      "source": [],
      "metadata": {
        "id": "nWh_OmIWFtZu"
      }
    },
    {
      "cell_type": "code",
      "source": [
        "sum = 5 * 5"
      ],
      "metadata": {
        "id": "PDAMCqPUGEI_"
      },
      "execution_count": 4,
      "outputs": []
    },
    {
      "cell_type": "markdown",
      "metadata": {
        "id": "b13XBLzcAtrK"
      },
      "source": [
        "# Activity 3: Testing and Refining the Weather Forecaster\n",
        "\n",
        "## Overview\n",
        "\n",
        "In this activity, you will test your weather forecaster program using different inputs to see how the code responds.  \n",
        "Your tasks include:  \n",
        "- Running your program with various temperature values.\n",
        "- Observing the output to identify any unexpected behaviour.\n",
        "- Refining the code based on your findings to improve the user experience.\n",
        "\n",
        "Even though we haven't covered advanced exception handling or functions yet, testing and debugging are vital skills for any programmer.\n",
        "\n",
        "> **Tip:** Testing your code with a range of inputs helps you spot errors and understand how your decision logic works."
      ]
    },
    {
      "cell_type": "code",
      "source": [
        "# A simple weather forecaster program\n",
        "user_choice = \"1\"  # Simulating the menu option for \"Check Temperature\"\n",
        "\n",
        "if user_choice == \"1\":\n",
        "    temp_input = input(\"Enter the current temperature (in °C): \")\n",
        "    # Here, we assume the user enters a valid number\n",
        "    temperature = int(temp_input)\n",
        "\n",
        "    if temperature < 5:\n",
        "        print(\"It's freezing – bundle up!\")\n",
        "    elif temperature < 15:\n",
        "        print(\"It's cold – wear a jacket!\")\n",
        "    elif temperature < 25:\n",
        "        print(\"It's warm – enjoy the day!\")\n",
        "    else:\n",
        "        print(\"It's hot – stay cool!\")"
      ],
      "metadata": {
        "id": "o7B5lqlKGoXh"
      },
      "execution_count": null,
      "outputs": []
    },
    {
      "cell_type": "markdown",
      "metadata": {
        "id": "9i5Xc0crAtrL"
      },
      "source": [
        "---\n",
        "\n",
        "### Step 1: Running Your Program\n",
        "\n",
        "Ensure that your weather forecaster code is in a cell.  \n",
        "For example, you might have code similar to the following:\n",
        "\n",
        "```python\n",
        "# A simple weather forecaster program\n",
        "user_choice = \"1\"  # Simulating the menu option for \"Check Temperature\"\n",
        "\n",
        "if user_choice == \"1\":\n",
        "    temp_input = input(\"Enter the current temperature (in °C): \")\n",
        "    # Here, we assume the user enters a valid number\n",
        "    temperature = int(temp_input)\n",
        "    \n",
        "    if temperature < 5:\n",
        "        print(\"It's freezing – bundle up!\")\n",
        "    elif temperature < 15:\n",
        "        print(\"It's cold – wear a jacket!\")\n",
        "    elif temperature < 25:\n",
        "        print(\"It's warm – enjoy the day!\")\n",
        "    else:\n",
        "        print(\"It's hot – stay cool!\")\n",
        "```\n",
        "\n",
        "> **Note:** For now, we assume that the user enters a valid numeric input. Later, you'll learn techniques to handle non-numeric input.\n",
        "\n",
        "> **Important:** Remember that the input() function always returns a string. Even if a user types a number, it is read as a string. To perform numerical comparisons, we convert the input to an integer using int() (or to a float using float() if needed).\n",
        "\n",
        "---\n",
        "\n",
        "### Step 2: Testing with Different Inputs\n",
        "\n",
        "Run your program several times and try the following tests:\n",
        "- **Test 1:** Enter a low temperature (e.g. `0` or `-5`) to see if the program outputs a message indicating very cold conditions.\n",
        "- **Test 2:** Enter a moderate temperature (e.g. `10` or `20`) and verify that the appropriate message is shown.\n",
        "- **Test 3:** Enter a high temperature (e.g. `30` or `35`) to check the output for hot conditions.\n",
        "- **Test 4:** If you add an input check (see Step 3), test with a non-numeric value (e.g. `\"abc\"`) to see how your program handles unexpected input.\n",
        "\n",
        "> **Tip:** Observing the output for each test helps you identify any issues with your logic or how the code handles different scenarios.\n",
        "\n",
        "---\n",
        "\n",
        "### Step 3: Refining Your Code with Input Checks\n",
        "\n",
        "One way to make your code more robust is to check that the input is numeric before converting it to an integer. For example, you might use the methods `isdigit()` and `startswith()`.\n",
        "\n",
        "#### Background on `isdigit()` and `startswith()`\n",
        "\n",
        "- **`isdigit()`**  \n",
        "  This method checks if all the characters in a string are digits (0-9). For example:  \n",
        "  ```python\n",
        "  \"123\".isdigit()  # Returns True\n",
        "  \"12a\".isdigit()  # Returns False\n",
        "  ```\n",
        "\n",
        "- **`startswith()`**  \n",
        "  This method checks if a string starts with a specified substring. For instance, to check if a string starts with a minus sign (`\"-\"`):  \n",
        "  ```python\n",
        "  \"-123\".startswith(\"-\")  # Returns True\n",
        "  ```\n",
        "\n",
        "When dealing with potential negative numbers (like `\"-5\"`), we can use string indexing. For example, `temp_input[1:]` gives the part of the string after the minus sign.  \n",
        "> **Advanced Concept:**  \n",
        "> A string in Python is a sequence of characters, which means you can access individual characters or a part of the string using indexing or slicing (like `temp_input[1:]`). This technique is a bit advanced for now, but just know that it lets us check if the rest of a string consists entirely of digits even if it starts with a minus sign. You don't need to master this right now; it's enough to have an intuitive idea that we can look at parts of a string.\n",
        "\n",
        "Below is an improved version of your code that uses these methods to verify that the input is numeric:\n",
        "\n",
        "```python\n",
        "if user_choice == \"1\":\n",
        "    temp_input = input(\"Enter the current temperature (in °C): \")\n",
        "    # Check if the input is numeric:\n",
        "    # For negative numbers, check if the string starts with '-' and the rest is numeric.\n",
        "    if temp_input.isdigit() or (temp_input.startswith('-') and temp_input[1:].isdigit()):\n",
        "        temperature = int(temp_input)\n",
        "        if temperature < 5:\n",
        "            print(\"It's freezing – bundle up!\")\n",
        "        elif temperature < 15:\n",
        "            print(\"It's cold – wear a jacket!\")\n",
        "        elif temperature < 25:\n",
        "            print(\"It's warm – enjoy the day!\")\n",
        "        else:\n",
        "            print(\"It's hot – stay cool!\")\n",
        "    else:\n",
        "        print(\"Invalid input. Please enter a numeric temperature.\")\n",
        "```\n",
        "\n",
        "> **Tip:** This method helps ensure that the input is valid before attempting to convert it to a number, preventing errors. Remember, for now we assume the user enters correct input, but it's good to see how you can improve your program's robustness.\n",
        "\n",
        "> **AI Prompt:** If you have questions about why we use `temp_input[1:]`, ask, \"Can you explain how string slicing helps in validating negative numbers in Python?\"\n",
        "\n",
        "---\n",
        "\n",
        "### Step 4: Advanced Tip\n",
        "\n",
        "If you come across any code that you don't fully understand, consider using AI tools (such as ChatGPT) to help explain the code.  \n",
        "For example, you can paste a snippet of code and ask the AI to describe what it does and why certain methods (like `isdigit()` or `startswith()`) are used. This can be very useful when you're learning new concepts.\n",
        "\n",
        "> **Tip:** Try experimenting with the code above. For instance, enter different values like `-10`, `25`, or `\"abc\"` and observe how the program responds.\n",
        "\n",
        "> **AI Prompt:** If you're curious why we check `temp_input[1:]` instead of just `temp_input[0]`, ask, \"Why do we use temp_input[1:] when checking for a negative number in Python?\" This will help clarify that it's used to skip the minus sign when validating the numeric part.\n",
        "\n",
        "---\n",
        "\n",
        "### Step 5: Reflection and Discussion\n",
        "\n",
        "Reflect on the following questions:\n",
        "- What happens when you enter a value that is not numeric?  \n",
        "- How does the program's output change with different temperature values?  \n",
        "- How do `isdigit()` and `startswith()` help ensure that the input is valid?  \n",
        "- Is the use of string indexing (like `temp_input[1:]`) clear to you, or would you like to learn more about accessing parts of a string?\n",
        "\n",
        "> **Note:** Discuss these questions with your classmates or write down your thoughts. If some parts feel confusing, that's normal—these are advanced techniques that you'll explore further in future lessons.\n",
        "\n",
        "---\n",
        "\n",
        "## Summary\n",
        "\n",
        "In this activity, you have:\n",
        "- Tested your weather forecaster with a variety of inputs.\n",
        "- Learned that input() always returns a string, which must be converted to a number using int() or float() when needed.\n",
        "- Explored how to check that an input is numeric using `isdigit()` and `startswith()`.\n",
        "- Seen a brief introduction to string indexing for validating negative numbers.\n",
        "- Discovered an advanced tip: use AI tools to help explain code you don't understand.\n",
        "\n",
        "> **Tip:** Keep experimenting with your code and remember that debugging is a crucial part of becoming a successful programmer. Happy coding!"
      ]
    }
  ],
  "metadata": {
    "kernelspec": {
      "display_name": "Python 3 (ipykernel)",
      "language": "python",
      "name": "python3"
    },
    "colab": {
      "provenance": [],
      "include_colab_link": true
    }
  },
  "nbformat": 4,
  "nbformat_minor": 0
}