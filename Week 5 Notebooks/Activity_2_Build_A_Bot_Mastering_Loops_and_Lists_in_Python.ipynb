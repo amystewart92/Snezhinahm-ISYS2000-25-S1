{
  "cells": [
    {
      "cell_type": "markdown",
      "metadata": {
        "id": "view-in-github",
        "colab_type": "text"
      },
      "source": [
        "<a href=\"https://colab.research.google.com/github/amystewart92/Snezhinahm-ISYS2000-25-S1/blob/main/Week%205%20Notebooks/Activity_2_Build_A_Bot_Mastering_Loops_and_Lists_in_Python.ipynb\" target=\"_parent\"><img src=\"https://colab.research.google.com/assets/colab-badge.svg\" alt=\"Open In Colab\"/></a>"
      ]
    },
    {
      "cell_type": "markdown",
      "metadata": {
        "id": "TLTZMvrKW3wO"
      },
      "source": [
        "## 🎯 Learning Objectives\n",
        "\n",
        "By the end of this activity, you will be able to:\n",
        "* Create and use loops to repeat code execution multiple times\n",
        "* Build and manipulate lists to store and access collections of data\n",
        "* Apply loops and lists together to build a simple interactive chatbot\n",
        "\n",
        "## 🚀 Introduction\n",
        "\n",
        "Loops and lists are fundamental building blocks in programming that allow us to work with collections of data and repeat actions efficiently. In today's digital world, these concepts power everything from social media feeds to recommendation systems. This worksheet will guide you through building your own simple chatbot using these powerful tools.\n",
        "\n",
        "## 🧠 Key Concepts\n",
        "\n",
        "* **Loop**: A programming structure that repeats a sequence of instructions until a specific condition is met\n",
        "* **List**: An ordered collection of items that can be changed or modified\n",
        "* **Iteration**: The process of repeatedly executing a set of statements\n",
        "* **Selection**: Using conditional statements to choose different paths in your program\n",
        "* **Index**: A position number used to access items in a list (starting from 0)\n",
        "\n",
        "## 🤖 Activity 1: One-Shot Bot Response (Sequence)\n",
        "\n",
        "Let's start by creating a simple bot that can respond to a single question. This helps us understand the basic flow before adding loops and lists."
      ]
    },
    {
      "cell_type": "code",
      "source": [
        "#@title Install\n",
        "!wget https://github.com/teaching-repositories/ISYS2001-ISYS5002/raw/refs/heads/main/libs/simple_bot-0.1-cp311-cp311-linux_x86_64.whl\n",
        "!pip install simple_bot-0.1-cp311-cp311-linux_x86_64.whl"
      ],
      "metadata": {
        "id": "9lDDjELsW5EK",
        "cellView": "form",
        "collapsed": true,
        "outputId": "37c9f3a6-59d9-41d7-99f5-0d52af4285ed",
        "colab": {
          "base_uri": "https://localhost:8080/"
        }
      },
      "execution_count": 1,
      "outputs": [
        {
          "output_type": "stream",
          "name": "stdout",
          "text": [
            "--2025-03-28 05:04:09--  https://github.com/teaching-repositories/ISYS2001-ISYS5002/raw/refs/heads/main/libs/simple_bot-0.1-cp311-cp311-linux_x86_64.whl\n",
            "Resolving github.com (github.com)... 140.82.113.3\n",
            "Connecting to github.com (github.com)|140.82.113.3|:443... connected.\n",
            "HTTP request sent, awaiting response... 302 Found\n",
            "Location: https://raw.githubusercontent.com/teaching-repositories/ISYS2001-ISYS5002/refs/heads/main/libs/simple_bot-0.1-cp311-cp311-linux_x86_64.whl [following]\n",
            "--2025-03-28 05:04:09--  https://raw.githubusercontent.com/teaching-repositories/ISYS2001-ISYS5002/refs/heads/main/libs/simple_bot-0.1-cp311-cp311-linux_x86_64.whl\n",
            "Resolving raw.githubusercontent.com (raw.githubusercontent.com)... 185.199.111.133, 185.199.108.133, 185.199.109.133, ...\n",
            "Connecting to raw.githubusercontent.com (raw.githubusercontent.com)|185.199.111.133|:443... connected.\n",
            "HTTP request sent, awaiting response... 200 OK\n",
            "Length: 127250 (124K) [application/octet-stream]\n",
            "Saving to: ‘simple_bot-0.1-cp311-cp311-linux_x86_64.whl’\n",
            "\n",
            "simple_bot-0.1-cp31 100%[===================>] 124.27K  --.-KB/s    in 0.03s   \n",
            "\n",
            "2025-03-28 05:04:09 (4.69 MB/s) - ‘simple_bot-0.1-cp311-cp311-linux_x86_64.whl’ saved [127250/127250]\n",
            "\n",
            "Processing ./simple_bot-0.1-cp311-cp311-linux_x86_64.whl\n",
            "Requirement already satisfied: requests in /usr/local/lib/python3.11/dist-packages (from simple-bot==0.1) (2.32.3)\n",
            "Requirement already satisfied: charset-normalizer<4,>=2 in /usr/local/lib/python3.11/dist-packages (from requests->simple-bot==0.1) (3.4.1)\n",
            "Requirement already satisfied: idna<4,>=2.5 in /usr/local/lib/python3.11/dist-packages (from requests->simple-bot==0.1) (3.10)\n",
            "Requirement already satisfied: urllib3<3,>=1.21.1 in /usr/local/lib/python3.11/dist-packages (from requests->simple-bot==0.1) (2.3.0)\n",
            "Requirement already satisfied: certifi>=2017.4.17 in /usr/local/lib/python3.11/dist-packages (from requests->simple-bot==0.1) (2025.1.31)\n",
            "Installing collected packages: simple-bot\n",
            "Successfully installed simple-bot-0.1\n"
          ]
        }
      ]
    },
    {
      "cell_type": "code",
      "execution_count": 2,
      "metadata": {
        "id": "MzujSd1eW3wP",
        "collapsed": true,
        "cellView": "form",
        "outputId": "441e2339-1313-4a7c-dc78-b6d7567a43c7",
        "colab": {
          "base_uri": "https://localhost:8080/",
          "height": 339
        }
      },
      "outputs": [
        {
          "output_type": "error",
          "ename": "KeyboardInterrupt",
          "evalue": "Interrupted by user",
          "traceback": [
            "\u001b[0;31m---------------------------------------------------------------------------\u001b[0m",
            "\u001b[0;31mKeyboardInterrupt\u001b[0m                         Traceback (most recent call last)",
            "\u001b[0;32m<ipython-input-2-bb708e882ecc>\u001b[0m in \u001b[0;36m<cell line: 0>\u001b[0;34m()\u001b[0m\n\u001b[1;32m      3\u001b[0m \u001b[0;34m\u001b[0m\u001b[0m\n\u001b[1;32m      4\u001b[0m \u001b[0;31m# Try it out with a single question\u001b[0m\u001b[0;34m\u001b[0m\u001b[0;34m\u001b[0m\u001b[0m\n\u001b[0;32m----> 5\u001b[0;31m \u001b[0mquestion\u001b[0m \u001b[0;34m=\u001b[0m \u001b[0minput\u001b[0m\u001b[0;34m(\u001b[0m\u001b[0;34m\"Ask the bot something: \"\u001b[0m\u001b[0;34m)\u001b[0m\u001b[0;34m\u001b[0m\u001b[0;34m\u001b[0m\u001b[0m\n\u001b[0m\u001b[1;32m      6\u001b[0m \u001b[0mprint\u001b[0m\u001b[0;34m(\u001b[0m\u001b[0;34m\"Bot:\"\u001b[0m\u001b[0;34m,\u001b[0m \u001b[0mget_response\u001b[0m\u001b[0;34m(\u001b[0m\u001b[0mquestion\u001b[0m\u001b[0;34m)\u001b[0m\u001b[0;34m)\u001b[0m\u001b[0;34m\u001b[0m\u001b[0;34m\u001b[0m\u001b[0m\n",
            "\u001b[0;32m/usr/local/lib/python3.11/dist-packages/ipykernel/kernelbase.py\u001b[0m in \u001b[0;36mraw_input\u001b[0;34m(self, prompt)\u001b[0m\n\u001b[1;32m   1175\u001b[0m                 \u001b[0;34m\"raw_input was called, but this frontend does not support input requests.\"\u001b[0m\u001b[0;34m\u001b[0m\u001b[0;34m\u001b[0m\u001b[0m\n\u001b[1;32m   1176\u001b[0m             )\n\u001b[0;32m-> 1177\u001b[0;31m         return self._input_request(\n\u001b[0m\u001b[1;32m   1178\u001b[0m             \u001b[0mstr\u001b[0m\u001b[0;34m(\u001b[0m\u001b[0mprompt\u001b[0m\u001b[0;34m)\u001b[0m\u001b[0;34m,\u001b[0m\u001b[0;34m\u001b[0m\u001b[0;34m\u001b[0m\u001b[0m\n\u001b[1;32m   1179\u001b[0m             \u001b[0mself\u001b[0m\u001b[0;34m.\u001b[0m\u001b[0m_parent_ident\u001b[0m\u001b[0;34m[\u001b[0m\u001b[0;34m\"shell\"\u001b[0m\u001b[0;34m]\u001b[0m\u001b[0;34m,\u001b[0m\u001b[0;34m\u001b[0m\u001b[0;34m\u001b[0m\u001b[0m\n",
            "\u001b[0;32m/usr/local/lib/python3.11/dist-packages/ipykernel/kernelbase.py\u001b[0m in \u001b[0;36m_input_request\u001b[0;34m(self, prompt, ident, parent, password)\u001b[0m\n\u001b[1;32m   1217\u001b[0m             \u001b[0;32mexcept\u001b[0m \u001b[0mKeyboardInterrupt\u001b[0m\u001b[0;34m:\u001b[0m\u001b[0;34m\u001b[0m\u001b[0;34m\u001b[0m\u001b[0m\n\u001b[1;32m   1218\u001b[0m                 \u001b[0;31m# re-raise KeyboardInterrupt, to truncate traceback\u001b[0m\u001b[0;34m\u001b[0m\u001b[0;34m\u001b[0m\u001b[0m\n\u001b[0;32m-> 1219\u001b[0;31m                 \u001b[0;32mraise\u001b[0m \u001b[0mKeyboardInterrupt\u001b[0m\u001b[0;34m(\u001b[0m\u001b[0;34m\"Interrupted by user\"\u001b[0m\u001b[0;34m)\u001b[0m \u001b[0;32mfrom\u001b[0m \u001b[0;32mNone\u001b[0m\u001b[0;34m\u001b[0m\u001b[0;34m\u001b[0m\u001b[0m\n\u001b[0m\u001b[1;32m   1220\u001b[0m             \u001b[0;32mexcept\u001b[0m \u001b[0mException\u001b[0m\u001b[0;34m:\u001b[0m\u001b[0;34m\u001b[0m\u001b[0;34m\u001b[0m\u001b[0m\n\u001b[1;32m   1221\u001b[0m                 \u001b[0mself\u001b[0m\u001b[0;34m.\u001b[0m\u001b[0mlog\u001b[0m\u001b[0;34m.\u001b[0m\u001b[0mwarning\u001b[0m\u001b[0;34m(\u001b[0m\u001b[0;34m\"Invalid Message:\"\u001b[0m\u001b[0;34m,\u001b[0m \u001b[0mexc_info\u001b[0m\u001b[0;34m=\u001b[0m\u001b[0;32mTrue\u001b[0m\u001b[0;34m)\u001b[0m\u001b[0;34m\u001b[0m\u001b[0;34m\u001b[0m\u001b[0m\n",
            "\u001b[0;31mKeyboardInterrupt\u001b[0m: Interrupted by user"
          ]
        }
      ],
      "source": [
        "#@title Question\n",
        "# Import the simple_bot package that connects to a local Ollama server\n",
        "from simple_bot import get_response\n",
        "\n",
        "# Try it out with a single question\n",
        "question = input(\"Ask the bot something: \")\n",
        "print(\"Bot:\", get_response(question))"
      ]
    },
    {
      "cell_type": "markdown",
      "metadata": {
        "id": "98KmJCieW3wQ"
      },
      "source": [
        "**Your Turn**: What other keywords could you add to the response function? Write down two more keywords and responses you'd like to add:\n",
        "\n",
        "1. Keyword: ________________ Response: ________________________________\n",
        "2. Keyword: ________________ Response: ________________________________\n",
        "\n",
        "## 🔄 Activity 2: Creating a Looping Bot (Repetition)\n",
        "\n",
        "Now, let's enhance our bot to continue the conversation using a loop! This will allow the bot to keep responding until the user decides to end the conversation."
      ]
    },
    {
      "cell_type": "code",
      "execution_count": null,
      "metadata": {
        "id": "REF2ta49W3wQ",
        "cellView": "form"
      },
      "outputs": [],
      "source": [
        "#@title Question Loop\n",
        "print(\"\\nWelcome to LoopBot! Ask me anything! Type 'bye' to quit.\")\n",
        "\n",
        "# Create a loop that continues until the user says 'bye'\n",
        "while True:\n",
        "    user_input = input(\"You: \")\n",
        "\n",
        "    # Check if the user wants to exit\n",
        "    if user_input.lower() in [\"bye\", \"quit\", \"exit\"]:\n",
        "        print(\"Bot: Goodbye! 👋\")\n",
        "        break  # Exit the loop\n",
        "\n",
        "    # Get and display the bot's response\n",
        "    reply = get_response(user_input)\n",
        "    print(\"Bot:\", reply)"
      ]
    },
    {
      "cell_type": "markdown",
      "metadata": {
        "id": "XDml6ZNjW3wQ"
      },
      "source": [
        "**Understanding the Code**:\n",
        "- `while True:` creates an infinite loop that will keep running until we explicitly break out of it\n",
        "- `break` is used to exit the loop when the user types 'bye', 'quit', or 'exit'\n",
        "- The loop allows continuous interaction between the user and bot\n",
        "\n",
        "## 📋 Activity 3: Adding Memory with Lists\n",
        "\n",
        "Let's make our bot smarter by giving it a memory! We'll use a list to store the conversation history."
      ]
    },
    {
      "cell_type": "code",
      "execution_count": null,
      "metadata": {
        "id": "0ofuVAbwW3wR"
      },
      "outputs": [],
      "source": [
        "print(\"\\nWelcome to MemoryBot! I'll try to remember what you say.\")\n",
        "\n",
        "# Create an empty list to store the conversation history\n",
        "memory = []\n",
        "\n",
        "while True:\n",
        "    user_input = input(\"You: \")\n",
        "\n",
        "    # Check if the user wants to exit\n",
        "    if user_input.lower() in [\"bye\", \"quit\", \"exit\"]:\n",
        "        print(\"Bot: Chat ended. I remembered\", len(memory), \"messages. Bye! 👋\")\n",
        "        break\n",
        "\n",
        "    # Add the user's input to our memory list\n",
        "    memory.append(user_input)\n",
        "\n",
        "    # Display the bot's response\n",
        "    response = get_response(user_input)\n",
        "    print(\"Bot:\", response)\n",
        "\n",
        "    # Show the user what's in the bot's memory if they ask\n",
        "    if \"what do you remember\" in user_input.lower():\n",
        "        print(\"Bot memory contains:\")\n",
        "        for i, message in enumerate(memory):\n",
        "            print(f\"  {i+1}. {message}\")"
      ]
    },
    {
      "cell_type": "markdown",
      "metadata": {
        "id": "KLvkwD8lW3wR"
      },
      "source": [
        "**List Operations Explained**:\n",
        "- `memory = []` creates an empty list\n",
        "- `memory.append(user_input)` adds the user's input to the end of the list\n",
        "- `len(memory)` returns the number of items in the list\n",
        "- `for i, message in enumerate(memory):` iterates through each item in the list with its position\n",
        "\n",
        "## 🧪 Activity 4: Enhanced Memory Bot Challenge\n",
        "\n",
        "Now let's create a more sophisticated bot that:\n",
        "1. Remembers only the last 3 messages (to avoid memory overload)\n",
        "2. Provides context to the AI by sending previous messages\n",
        "3. Provides a help menu with commands\n",
        "\n",
        "```python\n",
        "# This is example code - study it and then implement your own version below\n",
        "print(\"\\nAdvanced MemoryBot Example (non-executable)\")\n",
        "\n",
        "memory = []  # List to store messages\n",
        "commands = [\"help\", \"memory\", \"clear\", \"bye\"]  # List of available commands\n",
        "\n",
        "while True:\n",
        "    user_input = input(\"You: \")\n",
        "    \n",
        "    if user_input.lower() == \"bye\":\n",
        "        print(\"Bot: Goodbye!\")\n",
        "        break\n",
        "    elif user_input.lower() == \"help\":\n",
        "        print(\"Available commands:\", \", \".join(commands))\n",
        "    elif user_input.lower() == \"memory\":\n",
        "        print(\"I remember:\", memory)\n",
        "    elif user_input.lower() == \"clear\":\n",
        "        memory = []  # Clear the list\n",
        "        print(\"Memory cleared!\")\n",
        "    else:\n",
        "        memory.append(user_input)\n",
        "        # Keep only the last 3 items\n",
        "        if len(memory) > 3:\n",
        "            memory = memory[-3:]  # List slicing to keep only the last 3 items\n",
        "        \n",
        "        # Join the memory items with newlines to create context\n",
        "        context = \"\\n\".join(memory)\n",
        "        \n",
        "        # Send the context to get a more informed response\n",
        "        print(\"Bot:\", get_response(context))\n",
        "        print(\"(Memory size:\", len(memory), \"messages)\")\n",
        "```\n",
        "\n",
        "**Your Implementation**: Now create your own enhanced memory bot below:"
      ]
    },
    {
      "cell_type": "code",
      "execution_count": null,
      "metadata": {
        "id": "P3BEmWVQW3wR"
      },
      "outputs": [],
      "source": [
        "# Your enhanced memory bot implementation\n",
        "print(\"\\nYour Advanced MemoryBot! Type 'help' for commands.\")\n",
        "\n",
        "# Import the needed package\n",
        "from simple_bot import get_response\n",
        "\n",
        "# Create your lists and initialize variables here\n",
        "memory = []\n",
        "commands = [\"help\", \"memory\", \"clear\", \"bye\"]\n",
        "\n",
        "# Write your loop here\n",
        "while True:\n",
        "    user_input = input(\"You: \")\n",
        "\n",
        "    # Implement the command handling and memory management\n",
        "    # ...\n",
        "\n",
        "    # Don't forget to test your code!"
      ]
    },
    {
      "cell_type": "markdown",
      "metadata": {
        "id": "zugyJD_vW3wR"
      },
      "source": [
        "## 🌟 Extension: Personality Bot Challenge\n",
        "\n",
        "For those who finish early, try creating a bot with different personalities! The `simple_bot` package includes some personality options like `pirate_bot` and `emoji_bot`. Use a list to store multiple personality options and let the user choose between them."
      ]
    },
    {
      "cell_type": "code",
      "execution_count": null,
      "metadata": {
        "id": "wLtetEsJW3wR"
      },
      "outputs": [],
      "source": [
        "# Import personality bots from the simple_bot package\n",
        "from simple_bot import get_response, pirate_bot, emoji_bot\n",
        "\n",
        "# Define an additional personality option\n",
        "def formal_bot(message):\n",
        "    return \"I must say, \" + get_response(message) + \" Most certainly.\"\n",
        "\n",
        "# List of available personalities\n",
        "personalities = [\"regular\", \"pirate\", \"emoji\", \"formal\"]\n",
        "current_personality = \"regular\"\n",
        "\n",
        "print(\"\\nMulti-Personality Bot! Type 'personalities' to see options.\")\n",
        "\n",
        "while True:\n",
        "    user_input = input(\"You: \")\n",
        "\n",
        "    if user_input.lower() == \"bye\":\n",
        "        print(\"Bot: Until next time!\")\n",
        "        break\n",
        "    elif user_input.lower() == \"personalities\":\n",
        "        print(\"Available personalities:\", \", \".join(personalities))\n",
        "        print(\"To change, type 'switch to [personality]'\")\n",
        "    elif user_input.lower().startswith(\"switch to \"):\n",
        "        # Extract the requested personality from the user input\n",
        "        requested = user_input.lower().replace(\"switch to \", \"\")\n",
        "        if requested in personalities:\n",
        "            current_personality = requested\n",
        "            print(f\"Bot: Switched to {current_personality} personality!\")\n",
        "        else:\n",
        "            print(\"Bot: I don't know that personality yet.\")\n",
        "    else:\n",
        "        # Respond based on the current personality\n",
        "        if current_personality == \"regular\":\n",
        "            print(\"Bot:\", get_response(user_input))\n",
        "        elif current_personality == \"pirate\":\n",
        "            print(\"PirateBot:\", pirate_bot(user_input))\n",
        "        elif current_personality == \"emoji\":\n",
        "            print(\"EmojiBot:\", emoji_bot(user_input))\n",
        "        elif current_personality == \"formal\":\n",
        "            print(\"FormalBot:\", formal_bot(user_input))"
      ]
    },
    {
      "cell_type": "markdown",
      "metadata": {
        "id": "9DrZohswW3wS"
      },
      "source": [
        "## 🤔 Reflection\n",
        "\n",
        "Take a moment to reflect on what you've learned:\n",
        "\n",
        "1. How could loops make your programs more efficient?\n",
        "2. What types of data would be useful to store in lists in your everyday applications?\n",
        "3. How could you further enhance your bot using the concepts learned today?\n",
        "\n",
        "## 🚀 Going Further\n",
        "\n",
        "As you continue learning, consider these additional features you could add to your bot:\n",
        "- Using nested lists to organize different categories of responses\n",
        "- Creating a custom bot personality with a special system prompt\n",
        "- Implementing file I/O to save your bot's memory between sessions\n",
        "- Exploring dictionaries as another way to store data\n",
        "\n",
        "```python\n",
        "# Example of creating a custom bot personality with a system prompt\n",
        "def my_bot(prompt):\n",
        "    return get_response(prompt, system=\"You are a wise old dragon who answers questions in riddles and ancient wisdom.\")\n",
        "\n",
        "print(my_bot(\"How do I debug my code?\"))\n",
        "```\n",
        "\n",
        "Remember: loops and lists are fundamental concepts that will appear in virtually every Python program you write throughout your programming journey!"
      ]
    }
  ],
  "metadata": {
    "kernelspec": {
      "display_name": "Python 3 (ipykernel)",
      "language": "python",
      "name": "python3"
    },
    "colab": {
      "provenance": [],
      "include_colab_link": true
    }
  },
  "nbformat": 4,
  "nbformat_minor": 0
}