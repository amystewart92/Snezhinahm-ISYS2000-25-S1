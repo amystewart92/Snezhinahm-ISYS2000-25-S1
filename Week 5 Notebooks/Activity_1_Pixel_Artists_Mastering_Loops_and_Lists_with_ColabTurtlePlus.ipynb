{
  "cells": [
    {
      "cell_type": "markdown",
      "metadata": {
        "id": "view-in-github",
        "colab_type": "text"
      },
      "source": [
        "<a href=\"https://colab.research.google.com/github/amystewart92/Snezhinahm-ISYS2000-25-S1/blob/main/Week%205%20Notebooks/Activity_1_Pixel_Artists_Mastering_Loops_and_Lists_with_ColabTurtlePlus.ipynb\" target=\"_parent\"><img src=\"https://colab.research.google.com/assets/colab-badge.svg\" alt=\"Open In Colab\"/></a>"
      ]
    },
    {
      "cell_type": "markdown",
      "metadata": {
        "id": "aF9pTSxuWL_a"
      },
      "source": [
        "## 🎯 Learning Objectives\n",
        "\n",
        "By the end of this activity, you will be able to:\n",
        "* Use the ColabTurtlePlus library to create graphics through code\n",
        "* Apply loops to repeat drawing patterns efficiently\n",
        "* Utilize lists to store and access collections of data (colors, coordinates, shapes)\n",
        "* Combine loops and lists to create complex visual patterns\n",
        "\n",
        "## 🚀 Introduction\n",
        "\n",
        "ColabTurtlePlus is an extension of the Turtle graphics concept that works well in notebook environments. Like a digital pen that follows your commands, it creates drawings as SVG graphics. In this worksheet, you'll learn how to control this virtual artist using loops and lists—key programming concepts that help us efficiently repeat actions and organize data. These skills will serve as the foundation for the more advanced chatbot we'll build in the next activity.\n",
        "\n",
        "## 🧠 Key Concepts\n",
        "\n",
        "* **ColabTurtlePlus**: A Python library that creates SVG drawings based on commands\n",
        "* **Loop**: A programming structure that repeats code multiple times\n",
        "* **List**: An ordered collection of items that can be modified\n",
        "* **Iteration**: The process of repeatedly executing a set of statements\n",
        "* **Coordinate System**: In standard mode, (0,0) is the center of the screen\n",
        "\n",
        "## 🐢 Activity 1: Getting Started with ColabTurtlePlus\n",
        "\n",
        "Let's begin by importing the ColabTurtlePlus module and creating our first simple drawing."
      ]
    },
    {
      "cell_type": "code",
      "source": [
        "# Install the package if not already installed\n",
        "!pip install ColabTurtlePlus"
      ],
      "metadata": {
        "id": "elCMtnDeBJmC",
        "outputId": "db3a13bb-3e0a-4b41-b633-d2cb7e8b7e3d",
        "colab": {
          "base_uri": "https://localhost:8080/"
        }
      },
      "execution_count": 2,
      "outputs": [
        {
          "output_type": "stream",
          "name": "stdout",
          "text": [
            "Collecting ColabTurtlePlus\n",
            "  Downloading ColabTurtlePlus-2.0.1-py3-none-any.whl.metadata (10 kB)\n",
            "Downloading ColabTurtlePlus-2.0.1-py3-none-any.whl (31 kB)\n",
            "Installing collected packages: ColabTurtlePlus\n",
            "Successfully installed ColabTurtlePlus-2.0.1\n"
          ]
        }
      ]
    },
    {
      "cell_type": "code",
      "execution_count": 9,
      "metadata": {
        "id": "g6Ghkbc5WL_c",
        "outputId": "0e0baf57-dfd8-4b24-bb72-8a0aa83fa468",
        "colab": {
          "base_uri": "https://localhost:8080/",
          "height": 826
        }
      },
      "outputs": [
        {
          "output_type": "display_data",
          "data": {
            "text/plain": [
              "<IPython.core.display.HTML object>"
            ],
            "text/html": [
              "\n",
              "      <svg width=\"400\" height=\"400\">  \n",
              "        <rect width=\"100%\" height=\"100%\" style=\"fill:white;stroke:gray;stroke-width:1\"/>\n",
              "        \n",
              "        \n",
              "        <line x1=\"200.0\" y1=\"200.0\" x2=\"300.0\" y2=\"200.0\" stroke-linecap=\"round\" style=\"stroke:black;stroke-width:1\" /><line x1=\"300.0\" y1=\"200.0\" x2=\"300.0\" y2=\"300.0\" stroke-linecap=\"round\" style=\"stroke:black;stroke-width:1\" /><line x1=\"300.0\" y1=\"300.0\" x2=\"200.0\" y2=\"300.0\" stroke-linecap=\"round\" style=\"stroke:black;stroke-width:1\" /><line x1=\"200.0\" y1=\"300.0\" x2=\"200.0\" y2=\"200.0\" stroke-linecap=\"round\" style=\"stroke:black;stroke-width:1\" /><line x1=\"200.0\" y1=\"200.0\" x2=\"300.0\" y2=\"200.0\" stroke-linecap=\"round\" style=\"stroke:black;stroke-width:1\" /><line x1=\"300.0\" y1=\"200.0\" x2=\"250.0\" y2=\"286.603\" stroke-linecap=\"round\" style=\"stroke:black;stroke-width:1\" /><line x1=\"250.0\" y1=\"286.603\" x2=\"200.0\" y2=\"200.0\" stroke-linecap=\"round\" style=\"stroke:black;stroke-width:1\" />\n",
              "        \n",
              "        \n",
              "        <g id=\"turtle\" visibility=\"visible\" transform=\"rotate(90,200.0,200.0) translate(200.0, 200.0)\">\n",
              "<path style=\"stroke:black;fill-rule:evenodd;fill:black;fill-opacity:1;\" transform=\"skewX(0) scale(1,1)\" d=\"m 1.1536693,-18.56101 c -2.105469,1.167969 -3.203125,3.441407 -3.140625,6.5 l 0.011719,0.519532 -0.300782,-0.15625 c -1.308594,-0.671875 -2.828125,-0.824219 -4.378906,-0.429688 -1.9375,0.484375 -3.8906253,2.089844 -6.0117193,4.9257825 -1.332031,1.785156 -1.714843,2.644531 -1.351562,3.035156 l 0.113281,0.125 h 0.363281 c 0.71875,0 1.308594,-0.265625 4.6679693,-2.113282 1.199219,-0.660156 2.183594,-1.199218 2.191406,-1.199218 0.00781,0 -0.023437,0.089844 -0.074218,0.195312 -0.472657,1.058594 -1.046876,2.785156 -1.335938,4.042969 -1.054688,4.574219 -0.351562,8.453125 2.101562,11.582031 0.28125,0.355469 0.292969,0.253906 -0.097656,0.722656 -2.046875,2.4609375 -3.027344,4.8984375 -2.734375,6.8046875 0.050781,0.339844 0.042969,0.335938 0.679688,0.335938 2.023437,0 4.15625,-1.316407 6.21875,-3.835938 0.222656,-0.269531 0.191406,-0.261719 0.425781,-0.113281 0.730469,0.46875 2.460938,1.390625 2.613281,1.390625 0.160157,0 1.765625,-0.753906 2.652344,-1.246094 0.167969,-0.09375 0.308594,-0.164062 0.308594,-0.160156 0.066406,0.105468 0.761719,0.855468 1.085937,1.171875 1.613282,1.570312 3.339844,2.402343 5.3593747,2.570312 0.324219,0.02734 0.355469,0.0078 0.425781,-0.316406 0.375,-1.742187 -0.382812,-4.058594 -2.1445307,-6.5585935 l -0.320312,-0.457031 0.15625,-0.183594 c 3.2460927,-3.824218 3.4335927,-9.08593704 0.558593,-15.816406 l -0.050781,-0.125 1.7382807,0.859375 c 3.585938,1.773437 4.371094,2.097656 5.085938,2.097656 0.945312,0 0.75,-0.863281 -0.558594,-2.507812 C 11.458356,-11.838353 8.3333563,-13.268041 4.8607003,-11.721166 l -0.363281,0.164063 0.019531,-0.09375 c 0.121094,-0.550781 0.183594,-1.800781 0.121094,-2.378907 -0.203125,-1.867187 -1.035157,-3.199218 -2.695313,-4.308593 -0.523437,-0.351563 -0.546875,-0.355469 -0.789062,-0.222657\" />\n",
              "</g><g id=\"classic\" visibility=\"visible\" transform=\"rotate(-90,200.0,200.0) translate(200.0, 200.0)\">\n",
              "<polygon points=\"-5,-4.5 0,-2.5 5,-4.5 0,4.5\" transform=\"skewX(0) scale(1,1)\" style=\"stroke:black;fill:black;stroke-width:1\" />\n",
              "</g>\n",
              "      </svg>\n",
              "    "
            ]
          },
          "metadata": {}
        },
        {
          "output_type": "display_data",
          "data": {
            "text/plain": [
              "<IPython.core.display.HTML object>"
            ],
            "text/html": [
              "\n",
              "      <svg width=\"400\" height=\"400\">  \n",
              "        <rect width=\"100%\" height=\"100%\" style=\"fill:white;stroke:gray;stroke-width:1\"/>\n",
              "        \n",
              "        \n",
              "        \n",
              "        \n",
              "        \n",
              "        <g id=\"turtle\" visibility=\"visible\" transform=\"rotate(90,200.0,200.0) translate(200.0, 200.0)\">\n",
              "<path style=\"stroke:black;fill-rule:evenodd;fill:black;fill-opacity:1;\" transform=\"skewX(0) scale(1,1)\" d=\"m 1.1536693,-18.56101 c -2.105469,1.167969 -3.203125,3.441407 -3.140625,6.5 l 0.011719,0.519532 -0.300782,-0.15625 c -1.308594,-0.671875 -2.828125,-0.824219 -4.378906,-0.429688 -1.9375,0.484375 -3.8906253,2.089844 -6.0117193,4.9257825 -1.332031,1.785156 -1.714843,2.644531 -1.351562,3.035156 l 0.113281,0.125 h 0.363281 c 0.71875,0 1.308594,-0.265625 4.6679693,-2.113282 1.199219,-0.660156 2.183594,-1.199218 2.191406,-1.199218 0.00781,0 -0.023437,0.089844 -0.074218,0.195312 -0.472657,1.058594 -1.046876,2.785156 -1.335938,4.042969 -1.054688,4.574219 -0.351562,8.453125 2.101562,11.582031 0.28125,0.355469 0.292969,0.253906 -0.097656,0.722656 -2.046875,2.4609375 -3.027344,4.8984375 -2.734375,6.8046875 0.050781,0.339844 0.042969,0.335938 0.679688,0.335938 2.023437,0 4.15625,-1.316407 6.21875,-3.835938 0.222656,-0.269531 0.191406,-0.261719 0.425781,-0.113281 0.730469,0.46875 2.460938,1.390625 2.613281,1.390625 0.160157,0 1.765625,-0.753906 2.652344,-1.246094 0.167969,-0.09375 0.308594,-0.164062 0.308594,-0.160156 0.066406,0.105468 0.761719,0.855468 1.085937,1.171875 1.613282,1.570312 3.339844,2.402343 5.3593747,2.570312 0.324219,0.02734 0.355469,0.0078 0.425781,-0.316406 0.375,-1.742187 -0.382812,-4.058594 -2.1445307,-6.5585935 l -0.320312,-0.457031 0.15625,-0.183594 c 3.2460927,-3.824218 3.4335927,-9.08593704 0.558593,-15.816406 l -0.050781,-0.125 1.7382807,0.859375 c 3.585938,1.773437 4.371094,2.097656 5.085938,2.097656 0.945312,0 0.75,-0.863281 -0.558594,-2.507812 C 11.458356,-11.838353 8.3333563,-13.268041 4.8607003,-11.721166 l -0.363281,0.164063 0.019531,-0.09375 c 0.121094,-0.550781 0.183594,-1.800781 0.121094,-2.378907 -0.203125,-1.867187 -1.035157,-3.199218 -2.695313,-4.308593 -0.523437,-0.351563 -0.546875,-0.355469 -0.789062,-0.222657\" />\n",
              "</g>\n",
              "      </svg>\n",
              "    "
            ]
          },
          "metadata": {}
        }
      ],
      "source": [
        "#@title Turtle Demo\n",
        "# Import the module\n",
        "from ColabTurtlePlus.Turtle import *\n",
        "\n",
        "# Setup the drawing environment\n",
        "clearscreen()\n",
        "setup(400, 400)  # Set window size to 400x400 pixels\n",
        "showborder()     # Show a border around the drawing area\n",
        "\n",
        "# Create a new turtle\n",
        "t = Turtle()\n",
        "t.shape(\"turtle\")  # Make it look like a turtle\n",
        "t.speed(6)         # Set drawing speed (1-13)\n",
        "\n",
        "# Draw a simple square\n",
        "for i in range(4):\n",
        "    t.forward(100)\n",
        "    t.right(90)\n",
        "\n",
        "# Draw a simple triangle\n",
        "for i in range(3):\n",
        "    t.forward(100)\n",
        "    t.right(120)\n",
        "\n",
        "# Display the final result\n",
        "done()\n",
        "\n",
        "# Start fresh for the next activity\n",
        "clearscreen()\n",
        "setup(400, 400)\n",
        "showborder()\n",
        "t = Turtle()\n",
        "t.shape(\"turtle\")\n",
        "t.speed(6)"
      ]
    },
    {
      "cell_type": "markdown",
      "metadata": {
        "id": "Ydhk99_DWL_d"
      },
      "source": [
        "**Understanding the Code**:\n",
        "- We import everything from `ColabTurtlePlus.Turtle`\n",
        "- We set up a drawing area with `clearscreen()` and `setup(400, 400)`\n",
        "- We create a turtle object with `t = Turtle()`\n",
        "- The `for` loop repeats the forward and right turn commands 4 times\n",
        "- Each iteration, the turtle moves forward 100 pixels and turns right 90 degrees\n",
        "- At the end, we call `done()` to display the final result\n",
        "- Then we clear the screen for the next activity\n",
        "\n",
        "**Your Turn**: What shape would you draw if you changed the loop to run 3 times and turned 120 degrees each time? Try predicting, then modify the code to check your answer.\n",
        "\n",
        "## 🌈 Activity 2: Using Lists with ColabTurtlePlus\n",
        "\n",
        "Now let's explore how to use lists to store and use colors and coordinates."
      ]
    },
    {
      "cell_type": "code",
      "execution_count": null,
      "metadata": {
        "id": "d9Ku5VIuWL_d"
      },
      "outputs": [],
      "source": [
        "#@title Code Demo\n",
        "# Reset turtle position\n",
        "t.clear()\n",
        "t.penup()\n",
        "t.goto(-150, 0)  # Move left so we have room for multiple shapes\n",
        "t.pendown()\n",
        "\n",
        "# Create a list of colors\n",
        "colors = [\"red\", \"orange\", \"yellow\", \"green\", \"blue\", \"purple\"]\n",
        "\n",
        "# Draw a line in each color\n",
        "for color in colors:\n",
        "    t.color(color)\n",
        "    t.forward(50)\n",
        "\n",
        "# Move turtle to new position\n",
        "t.penup()\n",
        "t.goto(-150, -50)\n",
        "t.pendown()\n",
        "\n",
        "# Draw a series of squares in different colors\n",
        "for i in range(len(colors)):\n",
        "    t.color(colors[i])\n",
        "\n",
        "    # Draw a square\n",
        "    for j in range(4):\n",
        "        t.forward(30)\n",
        "        t.right(90)\n",
        "\n",
        "    # Move to position for next square\n",
        "    t.penup()\n",
        "    t.forward(50)\n",
        "    t.pendown()\n",
        "\n",
        "# Display the final result\n",
        "done()\n",
        "\n",
        "# Start fresh for the next activity\n",
        "clearscreen()\n",
        "setup(400, 400)\n",
        "showborder()\n",
        "t = Turtle()\n",
        "t.shape(\"turtle\")\n",
        "t.speed(6)"
      ]
    },
    {
      "cell_type": "markdown",
      "metadata": {
        "id": "SVnOl5voWL_e"
      },
      "source": [
        "**Understanding Lists**:\n",
        "- `colors = [\"red\", \"orange\", \"yellow\", \"green\", \"blue\", \"purple\"]` creates a list of colors\n",
        "- `for color in colors:` iterates through each color in the list\n",
        "- `t.color(color)` sets the current color to the one from the list\n",
        "- `len(colors)` returns the length of the list (6 in this case)\n",
        "- `colors[i]` accesses the color at position `i` in the list\n",
        "\n",
        "## 🧩 Activity 3: Nested Loops and Patterns\n",
        "\n",
        "Let's combine loops and lists to create more complex patterns!"
      ]
    },
    {
      "cell_type": "code",
      "execution_count": 13,
      "metadata": {
        "id": "agXFmIHcWL_e",
        "outputId": "ab3a1448-b2da-4374-bd56-9653c39f14c4",
        "colab": {
          "base_uri": "https://localhost:8080/",
          "height": 1000
        }
      },
      "outputs": [
        {
          "output_type": "display_data",
          "data": {
            "text/plain": [
              "<IPython.core.display.HTML object>"
            ],
            "text/html": [
              "\n",
              "      <svg width=\"400\" height=\"400\">  \n",
              "        <rect width=\"100%\" height=\"100%\" style=\"fill:white;stroke:gray;stroke-width:1\"/>\n",
              "        \n",
              "        \n",
              "        <path fill-rule=\"evenodd\" fill-opacity=\"1\" d=\"M 100.0 200.0  A 30 30 0 0 0 100.0 140.0  A 30 30 0 0 0 100.0 200.0 \" stroke-linecap=\"round\" style=\"stroke:red;stroke-width:1\" fill=\"red\" /><path fill-rule=\"evenodd\" fill-opacity=\"1\" d=\"M 200.0 200.0  A 30 30 0 0 0 200.0 140.0  A 30 30 0 0 0 200.0 200.0 \" stroke-linecap=\"round\" style=\"stroke:yellow;stroke-width:1\" fill=\"yellow\" /><line x1=\"300.0\" y1=\"200.0\" x2=\"305.0\" y2=\"200.0\" stroke-linecap=\"round\" style=\"stroke:blue;stroke-width:1\" /><line x1=\"305.0\" y1=\"200.0\" x2=\"304.878\" y2=\"206.999\" stroke-linecap=\"round\" style=\"stroke:green;stroke-width:1\" /><line x1=\"304.878\" y1=\"206.999\" x2=\"295.883\" y2=\"206.685\" stroke-linecap=\"round\" style=\"stroke:blue;stroke-width:1\" /><line x1=\"295.883\" y1=\"206.685\" x2=\"296.459\" y2=\"195.7\" stroke-linecap=\"round\" style=\"stroke:green;stroke-width:1\" /><line x1=\"296.459\" y1=\"195.7\" x2=\"309.427\" y2=\"196.607\" stroke-linecap=\"round\" style=\"stroke:blue;stroke-width:1\" /><line x1=\"309.427\" y1=\"196.607\" x2=\"308.12\" y2=\"211.55\" stroke-linecap=\"round\" style=\"stroke:green;stroke-width:1\" /><line x1=\"308.12\" y1=\"211.55\" x2=\"291.213\" y2=\"209.773\" stroke-linecap=\"round\" style=\"stroke:blue;stroke-width:1\" /><line x1=\"291.213\" y1=\"209.773\" x2=\"293.529\" y2=\"190.915\" stroke-linecap=\"round\" style=\"stroke:green;stroke-width:1\" /><line x1=\"293.529\" y1=\"190.915\" x2=\"314.325\" y2=\"193.838\" stroke-linecap=\"round\" style=\"stroke:blue;stroke-width:1\" /><line x1=\"314.325\" y1=\"193.838\" x2=\"310.727\" y2=\"216.555\" stroke-linecap=\"round\" style=\"stroke:green;stroke-width:1\" /><line x1=\"310.727\" y1=\"216.555\" x2=\"286.107\" y2=\"212.214\" stroke-linecap=\"round\" style=\"stroke:blue;stroke-width:1\" /><line x1=\"286.107\" y1=\"212.214\" x2=\"291.259\" y2=\"185.71\" stroke-linecap=\"round\" style=\"stroke:green;stroke-width:1\" /><line x1=\"291.259\" y1=\"185.71\" x2=\"319.625\" y2=\"191.739\" stroke-linecap=\"round\" style=\"stroke:blue;stroke-width:1\" /><line x1=\"319.625\" y1=\"191.739\" x2=\"312.652\" y2=\"221.944\" stroke-linecap=\"round\" style=\"stroke:green;stroke-width:1\" /><line x1=\"312.652\" y1=\"221.944\" x2=\"280.632\" y2=\"213.961\" stroke-linecap=\"round\" style=\"stroke:blue;stroke-width:1\" /><line x1=\"280.632\" y1=\"213.961\" x2=\"289.691\" y2=\"180.154\" stroke-linecap=\"round\" style=\"stroke:green;stroke-width:1\" /><line x1=\"289.691\" y1=\"180.154\" x2=\"325.258\" y2=\"190.353\" stroke-linecap=\"round\" style=\"stroke:blue;stroke-width:1\" /><line x1=\"325.258\" y1=\"190.353\" x2=\"313.856\" y2=\"227.649\" stroke-linecap=\"round\" style=\"stroke:green;stroke-width:1\" /><line x1=\"313.856\" y1=\"227.649\" x2=\"274.863\" y2=\"214.979\" stroke-linecap=\"round\" style=\"stroke:blue;stroke-width:1\" /><line x1=\"274.863\" y1=\"214.979\" x2=\"288.862\" y2=\"174.322\" stroke-linecap=\"round\" style=\"stroke:green;stroke-width:1\" /><line x1=\"288.862\" y1=\"174.322\" x2=\"331.148\" y2=\"189.713\" stroke-linecap=\"round\" style=\"stroke:blue;stroke-width:1\" /><line x1=\"331.148\" y1=\"189.713\" x2=\"314.305\" y2=\"233.591\" stroke-linecap=\"round\" style=\"stroke:green;stroke-width:1\" /><line x1=\"314.305\" y1=\"233.591\" x2=\"268.873\" y2=\"215.235\" stroke-linecap=\"round\" style=\"stroke:blue;stroke-width:1\" /><line x1=\"268.873\" y1=\"215.235\" x2=\"288.8\" y2=\"168.289\" stroke-linecap=\"round\" style=\"stroke:green;stroke-width:1\" /><line x1=\"288.8\" y1=\"168.289\" x2=\"337.218\" y2=\"189.846\" stroke-linecap=\"round\" style=\"stroke:blue;stroke-width:1\" /><line x1=\"337.218\" y1=\"189.846\" x2=\"313.974\" y2=\"239.693\" stroke-linecap=\"round\" style=\"stroke:green;stroke-width:1\" /><line x1=\"313.974\" y1=\"239.693\" x2=\"262.743\" y2=\"214.706\" stroke-linecap=\"round\" style=\"stroke:blue;stroke-width:1\" /><line x1=\"262.743\" y1=\"214.706\" x2=\"289.528\" y2=\"162.137\" stroke-linecap=\"round\" style=\"stroke:green;stroke-width:1\" /><line x1=\"289.528\" y1=\"162.137\" x2=\"343.388\" y2=\"190.775\" stroke-linecap=\"round\" style=\"stroke:blue;stroke-width:1\" /><line x1=\"343.388\" y1=\"190.775\" x2=\"312.845\" y2=\"245.876\" stroke-linecap=\"round\" style=\"stroke:green;stroke-width:1\" /><line x1=\"312.845\" y1=\"245.876\" x2=\"256.553\" y2=\"213.376\" stroke-linecap=\"round\" style=\"stroke:blue;stroke-width:1\" /><line x1=\"256.553\" y1=\"213.376\" x2=\"291.061\" y2=\"155.946\" stroke-linecap=\"round\" style=\"stroke:green;stroke-width:1\" /><line x1=\"291.061\" y1=\"155.946\" x2=\"349.576\" y2=\"192.51\" stroke-linecap=\"round\" style=\"stroke:blue;stroke-width:1\" /><line x1=\"349.576\" y1=\"192.51\" x2=\"310.907\" y2=\"252.056\" stroke-linecap=\"round\" style=\"stroke:green;stroke-width:1\" /><line x1=\"310.907\" y1=\"252.056\" x2=\"250.387\" y2=\"211.235\" stroke-linecap=\"round\" style=\"stroke:blue;stroke-width:1\" /><line x1=\"250.387\" y1=\"211.235\" x2=\"293.405\" y2=\"149.799\" stroke-linecap=\"round\" style=\"stroke:green;stroke-width:1\" /><line x1=\"293.405\" y1=\"149.799\" x2=\"355.699\" y2=\"195.058\" stroke-linecap=\"round\" style=\"stroke:blue;stroke-width:1\" /><line x1=\"355.699\" y1=\"195.058\" x2=\"308.156\" y2=\"258.15\" stroke-linecap=\"round\" style=\"stroke:green;stroke-width:1\" /><line x1=\"308.156\" y1=\"258.15\" x2=\"244.327\" y2=\"208.281\" stroke-linecap=\"round\" style=\"stroke:blue;stroke-width:1\" /><line x1=\"244.327\" y1=\"208.281\" x2=\"296.561\" y2=\"143.778\" stroke-linecap=\"round\" style=\"stroke:green;stroke-width:1\" /><line x1=\"296.561\" y1=\"143.778\" x2=\"361.675\" y2=\"198.415\" stroke-linecap=\"round\" style=\"stroke:blue;stroke-width:1\" /><line x1=\"361.675\" y1=\"198.415\" x2=\"304.598\" y2=\"264.075\" stroke-linecap=\"round\" style=\"stroke:green;stroke-width:1\" /><line x1=\"304.598\" y1=\"264.075\" x2=\"238.458\" y2=\"204.522\" stroke-linecap=\"round\" style=\"stroke:blue;stroke-width:1\" /><line x1=\"238.458\" y1=\"204.522\" x2=\"300.52\" y2=\"137.969\" stroke-linecap=\"round\" style=\"stroke:green;stroke-width:1\" /><line x1=\"300.52\" y1=\"137.969\" x2=\"367.419\" y2=\"202.572\" stroke-linecap=\"round\" style=\"stroke:blue;stroke-width:1\" /><line x1=\"367.419\" y1=\"202.572\" x2=\"300.244\" y2=\"269.747\" stroke-linecap=\"round\" style=\"stroke:green;stroke-width:1\" /><line x1=\"300.244\" y1=\"269.747\" x2=\"232.862\" y2=\"199.971\" stroke-linecap=\"round\" style=\"stroke:blue;stroke-width:1\" /><line x1=\"232.862\" y1=\"199.971\" x2=\"305.266\" y2=\"132.453\" stroke-linecap=\"round\" style=\"stroke:green;stroke-width:1\" /><line x1=\"305.266\" y1=\"132.453\" x2=\"372.848\" y2=\"207.511\" stroke-linecap=\"round\" style=\"stroke:blue;stroke-width:1\" /><line x1=\"372.848\" y1=\"207.511\" x2=\"295.113\" y2=\"275.085\" stroke-linecap=\"round\" style=\"stroke:green;stroke-width:1\" /><line x1=\"295.113\" y1=\"275.085\" x2=\"227.62\" y2=\"194.65\" stroke-linecap=\"round\" style=\"stroke:blue;stroke-width:1\" /><line x1=\"227.62\" y1=\"194.65\" x2=\"310.775\" y2=\"127.313\" stroke-linecap=\"round\" style=\"stroke:green;stroke-width:1\" /><line x1=\"310.775\" y1=\"127.313\" x2=\"377.882\" y2=\"213.206\" stroke-linecap=\"round\" style=\"stroke:blue;stroke-width:1\" /><line x1=\"377.882\" y1=\"213.206\" x2=\"289.233\" y2=\"280.007\" stroke-linecap=\"round\" style=\"stroke:green;stroke-width:1\" /><line x1=\"289.233\" y1=\"280.007\" x2=\"222.813\" y2=\"188.588\" stroke-linecap=\"round\" style=\"stroke:blue;stroke-width:1\" /><line x1=\"222.813\" y1=\"188.588\" x2=\"317.015\" y2=\"122.627\" stroke-linecap=\"round\" style=\"stroke:green;stroke-width:1\" /><line x1=\"317.015\" y1=\"122.627\" x2=\"382.441\" y2=\"219.624\" stroke-linecap=\"round\" style=\"stroke:blue;stroke-width:1\" /><line x1=\"382.441\" y1=\"219.624\" x2=\"282.639\" y2=\"284.436\" stroke-linecap=\"round\" style=\"stroke:green;stroke-width:1\" /><line x1=\"282.639\" y1=\"284.436\" x2=\"218.519\" y2=\"181.822\" stroke-linecap=\"round\" style=\"stroke:blue;stroke-width:1\" /><line x1=\"218.519\" y1=\"181.822\" x2=\"323.951\" y2=\"118.472\" stroke-linecap=\"round\" style=\"stroke:green;stroke-width:1\" />\n",
              "        \n",
              "        \n",
              "        <g id=\"turtle\" visibility=\"visible\" transform=\"rotate(150.0,323.951,118.472) translate(323.951, 118.472)\">\n",
              "<path style=\"stroke:green;fill-rule:evenodd;fill:green;fill-opacity:1;\" transform=\"skewX(0) scale(1,1)\" d=\"m 1.1536693,-18.56101 c -2.105469,1.167969 -3.203125,3.441407 -3.140625,6.5 l 0.011719,0.519532 -0.300782,-0.15625 c -1.308594,-0.671875 -2.828125,-0.824219 -4.378906,-0.429688 -1.9375,0.484375 -3.8906253,2.089844 -6.0117193,4.9257825 -1.332031,1.785156 -1.714843,2.644531 -1.351562,3.035156 l 0.113281,0.125 h 0.363281 c 0.71875,0 1.308594,-0.265625 4.6679693,-2.113282 1.199219,-0.660156 2.183594,-1.199218 2.191406,-1.199218 0.00781,0 -0.023437,0.089844 -0.074218,0.195312 -0.472657,1.058594 -1.046876,2.785156 -1.335938,4.042969 -1.054688,4.574219 -0.351562,8.453125 2.101562,11.582031 0.28125,0.355469 0.292969,0.253906 -0.097656,0.722656 -2.046875,2.4609375 -3.027344,4.8984375 -2.734375,6.8046875 0.050781,0.339844 0.042969,0.335938 0.679688,0.335938 2.023437,0 4.15625,-1.316407 6.21875,-3.835938 0.222656,-0.269531 0.191406,-0.261719 0.425781,-0.113281 0.730469,0.46875 2.460938,1.390625 2.613281,1.390625 0.160157,0 1.765625,-0.753906 2.652344,-1.246094 0.167969,-0.09375 0.308594,-0.164062 0.308594,-0.160156 0.066406,0.105468 0.761719,0.855468 1.085937,1.171875 1.613282,1.570312 3.339844,2.402343 5.3593747,2.570312 0.324219,0.02734 0.355469,0.0078 0.425781,-0.316406 0.375,-1.742187 -0.382812,-4.058594 -2.1445307,-6.5585935 l -0.320312,-0.457031 0.15625,-0.183594 c 3.2460927,-3.824218 3.4335927,-9.08593704 0.558593,-15.816406 l -0.050781,-0.125 1.7382807,0.859375 c 3.585938,1.773437 4.371094,2.097656 5.085938,2.097656 0.945312,0 0.75,-0.863281 -0.558594,-2.507812 C 11.458356,-11.838353 8.3333563,-13.268041 4.8607003,-11.721166 l -0.363281,0.164063 0.019531,-0.09375 c 0.121094,-0.550781 0.183594,-1.800781 0.121094,-2.378907 -0.203125,-1.867187 -1.035157,-3.199218 -2.695313,-4.308593 -0.523437,-0.351563 -0.546875,-0.355469 -0.789062,-0.222657\" />\n",
              "</g><g id=\"classic\" visibility=\"visible\" transform=\"rotate(-90,200.0,200.0) translate(200.0, 200.0)\">\n",
              "<polygon points=\"-5,-4.5 0,-2.5 5,-4.5 0,4.5\" transform=\"skewX(0) scale(1,1)\" style=\"stroke:black;fill:black;stroke-width:1\" />\n",
              "</g>\n",
              "      </svg>\n",
              "    "
            ]
          },
          "metadata": {}
        },
        {
          "output_type": "display_data",
          "data": {
            "text/plain": [
              "<IPython.core.display.HTML object>"
            ],
            "text/html": [
              "\n",
              "      <svg width=\"400\" height=\"400\">  \n",
              "        <rect width=\"100%\" height=\"100%\" style=\"fill:white;stroke:gray;stroke-width:1\"/>\n",
              "        \n",
              "        \n",
              "        \n",
              "        \n",
              "        \n",
              "        \n",
              "      </svg>\n",
              "    "
            ]
          },
          "metadata": {}
        },
        {
          "output_type": "error",
          "ename": "NameError",
          "evalue": "name 'arrow' is not defined",
          "traceback": [
            "\u001b[0;31m---------------------------------------------------------------------------\u001b[0m",
            "\u001b[0;31mNameError\u001b[0m                                 Traceback (most recent call last)",
            "\u001b[0;32m<ipython-input-13-1047889c6451>\u001b[0m in \u001b[0;36m<cell line: 0>\u001b[0;34m()\u001b[0m\n\u001b[1;32m     18\u001b[0m \u001b[0msetup\u001b[0m\u001b[0;34m(\u001b[0m\u001b[0;36m400\u001b[0m\u001b[0;34m,\u001b[0m \u001b[0;36m400\u001b[0m\u001b[0;34m)\u001b[0m\u001b[0;34m\u001b[0m\u001b[0;34m\u001b[0m\u001b[0m\n\u001b[1;32m     19\u001b[0m \u001b[0mshowborder\u001b[0m\u001b[0;34m(\u001b[0m\u001b[0;34m)\u001b[0m\u001b[0;34m\u001b[0m\u001b[0;34m\u001b[0m\u001b[0m\n\u001b[0;32m---> 20\u001b[0;31m \u001b[0mt\u001b[0m \u001b[0;34m=\u001b[0m \u001b[0marrow\u001b[0m\u001b[0;34m(\u001b[0m\u001b[0;34m)\u001b[0m\u001b[0;34m\u001b[0m\u001b[0;34m\u001b[0m\u001b[0m\n\u001b[0m\u001b[1;32m     21\u001b[0m \u001b[0mt\u001b[0m\u001b[0;34m.\u001b[0m\u001b[0mshape\u001b[0m\u001b[0;34m(\u001b[0m\u001b[0;34m\"arrow\"\u001b[0m\u001b[0;34m)\u001b[0m\u001b[0;34m\u001b[0m\u001b[0;34m\u001b[0m\u001b[0m\n\u001b[1;32m     22\u001b[0m \u001b[0mt\u001b[0m\u001b[0;34m.\u001b[0m\u001b[0mspeed\u001b[0m\u001b[0;34m(\u001b[0m\u001b[0;36m50\u001b[0m\u001b[0;34m)\u001b[0m\u001b[0;34m\u001b[0m\u001b[0;34m\u001b[0m\u001b[0m\n",
            "\u001b[0;31mNameError\u001b[0m: name 'arrow' is not defined"
          ]
        }
      ],
      "source": [
        "# Draw a colorful spiral\n",
        "t.speed(10)  # Faster speed\n",
        "\n",
        "# List of colors for our spiral\n",
        "spiral_colors = [\"blue\", \"green\", \"blue\", \"green\"]\n",
        "size = 5\n",
        "\n",
        "# Create spiral using a loop\n",
        "for i in range(60):\n",
        "    # Use modulo to cycle through the colors\n",
        "    t.color(spiral_colors[i % len(spiral_colors)])\n",
        "    t.forward(size)\n",
        "    t.right(91)  # Not quite 90° creates a spiral effect\n",
        "    size += 2  # Increase size each iteration\n",
        "\n",
        "done()\n",
        "clearscreen()\n",
        "setup(400, 400)\n",
        "showborder()\n",
        "t = arrow()\n",
        "t.shape(\"arrow\")\n",
        "t.speed(50)\n",
        "\n",
        "# Now let's create a pattern of circles\n",
        "positions = [(-100, 0), (0, 0), (100, 0), (-50, -70), (50, -70)]\n",
        "circle_colors = [\"red\", \"yellow\"]\n",
        "\n",
        "for i in range(len(positions)):\n",
        "    # Move to the position from our list\n",
        "    t.penup()\n",
        "    t.goto(positions[i])\n",
        "    t.pendown()\n",
        "\n",
        "    # Draw filled circle\n",
        "    t.color(circle_colors[i])\n",
        "    t.begin_fill()\n",
        "    t.circle(30)  # Circle with radius 30\n",
        "    t.end_fill()\n",
        "\n",
        "done()\n",
        "clearscreen()\n",
        "setup(400, 400)\n",
        "showborder()\n",
        "t = Turtle()\n",
        "t.shape(\"turtle\")\n",
        "t.speed(6)"
      ]
    },
    {
      "cell_type": "markdown",
      "metadata": {
        "id": "1SOT05YnWL_e"
      },
      "source": [
        "**Understanding Nested Patterns**:\n",
        "- We use the modulo operator `%` to cycle through our color list\n",
        "- The expression `i % len(spiral_colors)` gives us numbers 0, 1, 2, 3, 0, 1, ... to index our colors\n",
        "- For the circles, we store coordinates in a list of tuples: `positions = [(-100, 0), ...]`\n",
        "- We iterate through positions and colors simultaneously using their indices\n",
        "\n",
        "## 🚀 Activity 4: Create Your Own Pattern\n",
        "\n",
        "Now it's your turn to create a pattern! Use what you've learned about loops and lists to make something unique."
      ]
    },
    {
      "cell_type": "code",
      "execution_count": null,
      "metadata": {
        "id": "AgKhTv_YWL_f"
      },
      "outputs": [],
      "source": [
        "# Your pattern here!\n",
        "clearscreen()\n",
        "setup(400, 400)\n",
        "showborder()\n",
        "t = Turtle()\n",
        "t.shape(\"turtle\")\n",
        "t.speed(6)\n",
        "\n",
        "# Create your lists (colors, positions, sizes, etc.)\n",
        "# Example:\n",
        "my_colors = [\"blue\", \"purple\", \"teal\"]\n",
        "my_sizes = [20, 40, 60, 80, 100]\n",
        "\n",
        "# Write your loops to create a pattern\n",
        "# Example starter code:\n",
        "for size in my_sizes:\n",
        "    # Choose a color (you can pick colors however you like)\n",
        "    t.color(my_colors[size // 20 - 1])  # This picks a color based on the size\n",
        "\n",
        "    # Create a shape or pattern\n",
        "    # ...\n",
        "\n",
        "    # Move to next position\n",
        "    # ...\n",
        "\n",
        "# Display your final pattern\n",
        "done()"
      ]
    },
    {
      "cell_type": "markdown",
      "metadata": {
        "id": "tKKTjszjWL_f"
      },
      "source": [
        "**Challenge Ideas**:\n",
        "1. Create a flower with petals of different colors\n",
        "2. Draw a row of houses with different colored roofs\n",
        "3. Make a pattern that uses both circles and squares\n",
        "4. Create a star pattern with increasing size\n",
        "\n",
        "## 🌟 Extension: Multiple Turtles and Shapes\n",
        "\n",
        "For those who finish early, try using multiple turtles and drawing more complex shapes using lists of coordinates."
      ]
    },
    {
      "cell_type": "code",
      "execution_count": null,
      "metadata": {
        "id": "_AB-sUY7WL_g"
      },
      "outputs": [],
      "source": [
        "clearscreen()\n",
        "setup(400, 400)\n",
        "showborder()\n",
        "\n",
        "# Create two turtles\n",
        "t1 = Turtle()\n",
        "t1.shape(\"turtle\")\n",
        "t1.color(\"blue\")\n",
        "t1.speed(6)\n",
        "\n",
        "t2 = Turtle()\n",
        "t2.shape(\"arrow\")\n",
        "t2.color(\"red\")\n",
        "t2.speed(6)\n",
        "\n",
        "# A star shape defined by coordinates\n",
        "star_points = [(0, 85), (75, -75), (-100, 25), (100, 25), (-75, -75), (0, 85)]\n",
        "t1.penup()\n",
        "t1.goto(star_points[0])  # Move to first point\n",
        "t1.pendown()\n",
        "\n",
        "# Draw by connecting the dots\n",
        "for point in star_points:\n",
        "    t1.goto(point)\n",
        "\n",
        "# Fill with color\n",
        "t1.color(\"gold\")\n",
        "t1.begin_fill()\n",
        "for point in star_points:\n",
        "    t1.goto(point)\n",
        "t1.end_fill()\n",
        "\n",
        "# Create a function that can draw any shape from a list of points\n",
        "def draw_shape(turtle, points_list, fill_color=None):\n",
        "    turtle.penup()\n",
        "    turtle.goto(points_list[0])\n",
        "    turtle.pendown()\n",
        "\n",
        "    if fill_color:\n",
        "        turtle.color(fill_color)\n",
        "        turtle.begin_fill()\n",
        "\n",
        "    for point in points_list:\n",
        "        turtle.goto(point)\n",
        "\n",
        "    if fill_color:\n",
        "        turtle.end_fill()\n",
        "\n",
        "# Try the function with a different shape and turtle\n",
        "triangle = [(0, 0), (50, 86), (100, 0), (0, 0)]\n",
        "draw_shape(t2, triangle, \"forest green\")\n",
        "\n",
        "# Show the final drawing\n",
        "done()"
      ]
    },
    {
      "cell_type": "markdown",
      "metadata": {
        "id": "PFjbTtb0WL_g"
      },
      "source": [
        "## 🤔 Reflection\n",
        "\n",
        "Take a moment to reflect on what you've learned:\n",
        "\n",
        "1. How did using loops make your turtle drawings more efficient?\n",
        "2. How did lists help you organize information (colors, coordinates) in your programs?\n",
        "3. Can you think of other applications where combining loops and lists would be useful?\n",
        "\n",
        "## 🌠 Challenge: Create Something Artistic\n",
        "\n",
        "Here's one more challenge for those who want to try something artistic! This example creates a flower pattern with multiple colors."
      ]
    },
    {
      "cell_type": "code",
      "execution_count": null,
      "metadata": {
        "id": "BlEurKkhWL_g"
      },
      "outputs": [],
      "source": [
        "clearscreen()\n",
        "setup(400, 400)\n",
        "showborder()\n",
        "t = Turtle()\n",
        "t.shape(\"turtle\")\n",
        "t.speed(10)\n",
        "\n",
        "# Create a list of colors for our flower petals\n",
        "petal_colors = [\"red\", \"orange\", \"yellow\", \"pink\", \"purple\", \"blue\"]\n",
        "\n",
        "# Draw a flower with petals\n",
        "t.penup()\n",
        "t.goto(0, 0)\n",
        "t.pendown()\n",
        "\n",
        "# Use a loop to create the petals\n",
        "for i in range(12):\n",
        "    # Pick a color using modulo to cycle through our list\n",
        "    t.color(petal_colors[i % len(petal_colors)])\n",
        "\n",
        "    # Start filling to create a colored petal\n",
        "    t.begin_fill()\n",
        "\n",
        "    # Draw a circle for the petal\n",
        "    t.circle(70, 60)\n",
        "    t.left(120)\n",
        "    t.circle(70, 60)\n",
        "    t.left(120)\n",
        "\n",
        "    # Complete the fill\n",
        "    t.end_fill()\n",
        "\n",
        "    # Rotate for the next petal\n",
        "    t.left(30)\n",
        "\n",
        "# Draw the center of the flower\n",
        "t.penup()\n",
        "t.goto(0, 0)\n",
        "t.pendown()\n",
        "t.color(\"brown\", \"yellow\")\n",
        "t.begin_fill()\n",
        "t.circle(20)\n",
        "t.end_fill()\n",
        "\n",
        "# Display the final image\n",
        "done()"
      ]
    },
    {
      "cell_type": "markdown",
      "metadata": {
        "id": "nqKWIItEWL_g"
      },
      "source": [
        "## 🚀 Going Further\n",
        "\n",
        "You've completed the ColabTurtlePlus Graphics portion of our workshop! Next, we'll apply these same concepts of loops and lists to create a conversational AI bot.\n",
        "\n",
        "Some ideas to explore further with ColabTurtlePlus:\n",
        "- Create functions that generate specific patterns you can reuse\n",
        "- Explore all the shapes available in ColabTurtlePlus: 'classic', 'arrow', 'turtle', 'circle', etc.\n",
        "- Use the different fill rules ColabTurtlePlus offers for interesting effects\n",
        "- Save your SVG creations using `saveSVG()` to use them elsewhere\n",
        "\n",
        "## 🔄 Transition to Next Activity\n",
        "\n",
        "In the next worksheet, we'll continue exploring loops and lists, but instead of creating visual art, we'll use these concepts to build a simple AI chatbot. You'll see how the same fundamental programming concepts can be applied to very different applications!"
      ]
    }
  ],
  "metadata": {
    "kernelspec": {
      "display_name": "Python 3 (ipykernel)",
      "language": "python",
      "name": "python3"
    },
    "colab": {
      "provenance": [],
      "include_colab_link": true
    }
  },
  "nbformat": 4,
  "nbformat_minor": 0
}